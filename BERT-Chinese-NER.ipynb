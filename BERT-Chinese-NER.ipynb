{
 "cells": [
  {
   "cell_type": "markdown",
   "metadata": {},
   "source": [
    "读取数据"
   ]
  },
  {
   "cell_type": "code",
   "execution_count": 2,
   "metadata": {},
   "outputs": [],
   "source": [
    "import os\n",
    "\n",
    "data_dir = \"./data/ner_format_data/\"\n",
    "train_path = os.path.join(data_dir, \"train.jsonl\")\n",
    "dev_path = os.path.join(data_dir, \"dev.jsonl\")\n",
    "tag_path = os.path.join(data_dir, \"tags.txt\")"
   ]
  },
  {
   "cell_type": "code",
   "execution_count": 3,
   "metadata": {},
   "outputs": [],
   "source": [
    "def read_data(file_path):\n",
    "    \"\"\" \n",
    "    将数据读取成列表形式\n",
    "    \n",
    "    :param file_path: 文件路径\n",
    "    :return: 数据列表\n",
    "    \"\"\"\n",
    "    import json\n",
    "    \n",
    "    with open(file_path, \"r\", encoding=\"utf-8\") as f:\n",
    "        lines = f.readlines()\n",
    "    data = [json.loads(line) for line in lines]\n",
    "    \n",
    "    return data"
   ]
  },
  {
   "cell_type": "code",
   "execution_count": 4,
   "metadata": {},
   "outputs": [],
   "source": [
    "train_data = read_data(train_path)\n",
    "dev_data = read_data(dev_path)"
   ]
  },
  {
   "cell_type": "markdown",
   "metadata": {},
   "source": [
    "建立标签与索引的映射"
   ]
  },
  {
   "cell_type": "code",
   "execution_count": 5,
   "metadata": {},
   "outputs": [],
   "source": [
    "# 因为文本的索引可以用BERT的tokenizer来处理，而标签需要手动建立索引\n",
    "with open(\"./data/ner_format_data/tags.txt\", \"r\", encoding=\"utf-8\") as f:\n",
    "    tag_lines = f.readlines()\n",
    "labels = [line.strip() for line in tag_lines]\n",
    "\n",
    "unique_labels = set(labels)\n",
    "# 建立标签索引\n",
    "labels_to_ids = {k: v for v, k in enumerate(labels)}\n",
    "ids_to_labels = {v: k for k, v in enumerate(labels)}"
   ]
  },
  {
   "cell_type": "markdown",
   "metadata": {},
   "source": [
    "数据预处理"
   ]
  },
  {
   "cell_type": "code",
   "execution_count": 6,
   "metadata": {},
   "outputs": [
    {
     "name": "stderr",
     "output_type": "stream",
     "text": [
      "d:\\Software\\Anaconda\\anaconda\\envs\\pytorch\\lib\\site-packages\\tqdm\\auto.py:22: TqdmWarning: IProgress not found. Please update jupyter and ipywidgets. See https://ipywidgets.readthedocs.io/en/stable/user_install.html\n",
      "  from .autonotebook import tqdm as notebook_tqdm\n"
     ]
    }
   ],
   "source": [
    "# 1.tokenization\n",
    "# 2.adjust the label to match the tokenization\n",
    "from transformers import BertTokenizerFast\n",
    "\n",
    "tokenizer = BertTokenizerFast.from_pretrained(\"bert-base-chinese\")"
   ]
  },
  {
   "cell_type": "markdown",
   "metadata": {},
   "source": [
    "以单个样本为例"
   ]
  },
  {
   "cell_type": "code",
   "execution_count": 7,
   "metadata": {},
   "outputs": [
    {
     "name": "stdout",
     "output_type": "stream",
     "text": [
      "['[CLS]', '故', '障', '原', '因', '空', '气', '流', '量', '计', '内', '部', '故', '障', '修', '复', '方', '法', '更', '换', '[SEP]', '[PAD]', '[PAD]', '[PAD]', '[PAD]', '[PAD]', '[PAD]', '[PAD]', '[PAD]', '[PAD]']\n",
      "[None, 0, 1, 2, 3, 4, 5, 6, 7, 8, 9, 10, 11, 12, 13, 14, 15, 16, 17, 18, None, None, None, None, None, None, None, None, None, None]\n"
     ]
    }
   ],
   "source": [
    "sample = train_data[0]\n",
    "text = sample[\"text\"]\n",
    "label = sample[\"label\"]\n",
    "text_tokenized = tokenizer(text, padding='max_length', max_length=30, truncation=True, return_tensors=\"pt\")\n",
    "# text_tokenized # 包含input_ids, attention_mask, token_type_ids\n",
    "# print(tokenizer.decode(text_tokenized.input_ids[0]))    # 输出[CLS]原文本[SEP][PAD][PAD]\n",
    "# 经过tokenization后，原文本发生了变化(一方面是[SEP]的添加, 另一方面是subword的分割)\n",
    "# 因此需要将标签也跟着变化\n",
    "# text_tokenized.word_ids()方法可以返回每个token在原句子中的索引\n",
    "word_ids = text_tokenized.word_ids()\n",
    "print(tokenizer.convert_ids_to_tokens(text_tokenized['input_ids'][0]))\n",
    "print(word_ids)"
   ]
  },
  {
   "cell_type": "markdown",
   "metadata": {},
   "source": [
    "标签对齐"
   ]
  },
  {
   "cell_type": "code",
   "execution_count": 8,
   "metadata": {},
   "outputs": [],
   "source": [
    "def align_label_example(tokenized_input, label, labels_to_ids, label_all_tokens=True):\n",
    "    \"\"\"\n",
    "    将标签与tokenized_input对齐\n",
    "    \n",
    "    :param tokenized_input: BertTokenizer处理以后的文本\n",
    "    :param label: 该句子对应的标签\n",
    "    :param labels_to_ids: 标签索引\n",
    "    :param label_all_tokens: 是否将所有的sub word都赋予标签\n",
    "    :return label_ids: 对齐后的标签\n",
    "    \"\"\" \n",
    "    \n",
    "    word_ids = tokenized_input.word_ids()\n",
    "    \n",
    "    previous_word_idx = None\n",
    "    # 对齐以后的标签索引\n",
    "    label_ids = []\n",
    "    \n",
    "    for word_idx in word_ids:\n",
    "        if word_idx is None:\n",
    "            label_ids.append(-100)\n",
    "        elif word_idx != previous_word_idx:\n",
    "            # 该subword 和 之前的subword，不属于同一个word\n",
    "            try:\n",
    "                label_ids.append(labels_to_ids[label[word_idx]])\n",
    "            except:\n",
    "                label_ids.append(-100)\n",
    "        else:\n",
    "            # 该subword 和 之前的subword，属于同一个word\n",
    "            label_ids.append(labels_to_ids[label[word_idx]] if label_all_tokens else -100)\n",
    "        previous_word_idx = word_idx\n",
    "    \n",
    "    return label_ids"
   ]
  },
  {
   "cell_type": "code",
   "execution_count": 9,
   "metadata": {},
   "outputs": [
    {
     "name": "stdout",
     "output_type": "stream",
     "text": [
      "tokenized_input: {'input_ids': tensor([[ 101, 3125, 7397, 1333, 1728, 4958, 3698, 3837, 7030, 6369, 1079, 6956,\n",
      "         3125, 7397,  934, 1908, 3175, 3791, 3291, 2940,  102,    0,    0,    0,\n",
      "            0,    0,    0,    0,    0,    0]]), 'token_type_ids': tensor([[0, 0, 0, 0, 0, 0, 0, 0, 0, 0, 0, 0, 0, 0, 0, 0, 0, 0, 0, 0, 0, 0, 0, 0,\n",
      "         0, 0, 0, 0, 0, 0]]), 'attention_mask': tensor([[1, 1, 1, 1, 1, 1, 1, 1, 1, 1, 1, 1, 1, 1, 1, 1, 1, 1, 1, 1, 1, 0, 0, 0,\n",
      "         0, 0, 0, 0, 0, 0]])}\n",
      "raw label: ['O', 'O', 'O', 'O', 'B-部件单元', 'I-部件单元', 'I-部件单元', 'I-部件单元', 'I-部件单元', 'O', 'O', 'B-故障状态', 'I-故障状态', 'O', 'O', 'O', 'O', 'O', 'O']\n",
      "aligned label: [-100, 6, 6, 6, 6, 2, 3, 3, 3, 3, 6, 6, 0, 1, 6, 6, 6, 6, 6, 6, -100, -100, -100, -100, -100, -100, -100, -100, -100, -100]\n"
     ]
    }
   ],
   "source": [
    "print(f\"tokenized_input: {text_tokenized}\")\n",
    "print(f\"raw label: {label}\")\n",
    "print(f\"aligned label: {align_label_example(text_tokenized, label, labels_to_ids)}\")"
   ]
  },
  {
   "cell_type": "markdown",
   "metadata": {},
   "source": [
    "构造数据类"
   ]
  },
  {
   "cell_type": "code",
   "execution_count": 10,
   "metadata": {},
   "outputs": [],
   "source": [
    "import torch\n",
    "\n",
    "class DataSequence(torch.utils.data.Dataset):\n",
    "    \n",
    "    def __init__(self, data, labels_to_ids):\n",
    "        \n",
    "        raw_texts = [sample[\"text\"] for sample in data]\n",
    "        raw_labels = [sample[\"label\"] for sample in data]\n",
    "        self.texts = [tokenizer(text, padding='max_length', max_length=32, truncation=True, return_tensors=\"pt\") for text in raw_texts]\n",
    "        self.labels = [align_label_example(text, label, labels_to_ids) for text, label in zip(self.texts, raw_labels)]\n",
    "        \n",
    "    def __len__(self):\n",
    "        return len(self.texts)\n",
    "    \n",
    "    def __getitem__(self, idx):\n",
    "        return self.texts[idx], self.labels[idx]"
   ]
  },
  {
   "cell_type": "markdown",
   "metadata": {},
   "source": [
    "构造模型"
   ]
  },
  {
   "cell_type": "code",
   "execution_count": 11,
   "metadata": {},
   "outputs": [],
   "source": [
    "from transformers import BertForTokenClassification\n",
    "\n",
    "class BertModel(torch.nn.Module):\n",
    "\n",
    "    def __init__(self, unique_labels):\n",
    "\n",
    "        super(BertModel, self).__init__()\n",
    "\n",
    "        self.bert = BertForTokenClassification.from_pretrained('bert-base-cased', num_labels=len(unique_labels))\n",
    "\n",
    "    def forward(self, input_id, mask, label):\n",
    "\n",
    "        output = self.bert(input_ids=input_id, attention_mask=mask, labels=label, return_dict=False)\n",
    "\n",
    "        return output"
   ]
  },
  {
   "cell_type": "code",
   "execution_count": 12,
   "metadata": {},
   "outputs": [],
   "source": [
    "train_dataset = DataSequence(train_data, labels_to_ids)\n",
    "val_dataset = DataSequence(dev_data, labels_to_ids)"
   ]
  },
  {
   "cell_type": "code",
   "execution_count": 14,
   "metadata": {},
   "outputs": [],
   "source": [
    "from torch.utils.data import DataLoader\n",
    "from tqdm import tqdm\n",
    "from torch.optim import SGD\n",
    "\n",
    "train_dataloader = DataLoader(train_dataset, num_workers=4, batch_size=4, shuffle=True)\n",
    "val_dataloader = DataLoader(val_dataset, num_workers=4, batch_size=4)"
   ]
  },
  {
   "cell_type": "code",
   "execution_count": null,
   "metadata": {},
   "outputs": [],
   "source": []
  },
  {
   "cell_type": "code",
   "execution_count": 15,
   "metadata": {},
   "outputs": [],
   "source": [
    "use_cuda = torch.cuda.is_available()\n",
    "device = torch.device(\"cuda\" if use_cuda else \"cpu\")\n"
   ]
  },
  {
   "cell_type": "code",
   "execution_count": 16,
   "metadata": {},
   "outputs": [
    {
     "name": "stderr",
     "output_type": "stream",
     "text": [
      "Some weights of the model checkpoint at bert-base-cased were not used when initializing BertForTokenClassification: ['cls.predictions.decoder.weight', 'cls.seq_relationship.weight', 'cls.predictions.transform.LayerNorm.weight', 'cls.seq_relationship.bias', 'cls.predictions.transform.LayerNorm.bias', 'cls.predictions.transform.dense.weight', 'cls.predictions.transform.dense.bias', 'cls.predictions.bias']\n",
      "- This IS expected if you are initializing BertForTokenClassification from the checkpoint of a model trained on another task or with another architecture (e.g. initializing a BertForSequenceClassification model from a BertForPreTraining model).\n",
      "- This IS NOT expected if you are initializing BertForTokenClassification from the checkpoint of a model that you expect to be exactly identical (initializing a BertForSequenceClassification model from a BertForSequenceClassification model).\n",
      "Some weights of BertForTokenClassification were not initialized from the model checkpoint at bert-base-cased and are newly initialized: ['classifier.bias', 'classifier.weight']\n",
      "You should probably TRAIN this model on a down-stream task to be able to use it for predictions and inference.\n"
     ]
    }
   ],
   "source": [
    "model = BertModel(unique_labels=unique_labels)"
   ]
  },
  {
   "cell_type": "code",
   "execution_count": 17,
   "metadata": {},
   "outputs": [
    {
     "name": "stderr",
     "output_type": "stream",
     "text": [
      "  0%|          | 0/600 [00:00<?, ?it/s]"
     ]
    }
   ],
   "source": [
    "for train_data, train_label in tqdm(train_dataloader):\n",
    "    print(train_data)\n",
    "    print(train_label)\n",
    "    # break\n",
    "\n",
    "    train_label = train_label[0].to(device)\n",
    "    mask = train_data['attention_mask'][0].to(device)\n",
    "    input_id = train_data['input_ids'][0].to(device)\n",
    "\n",
    "    # # optimizer.zero_grad()\n",
    "    # loss, logits = model(input_id, mask, train_label)\n",
    "\n",
    "    # break"
   ]
  },
  {
   "cell_type": "markdown",
   "metadata": {},
   "source": [
    "训练函数"
   ]
  },
  {
   "cell_type": "code",
   "execution_count": 11,
   "metadata": {},
   "outputs": [
    {
     "name": "stderr",
     "output_type": "stream",
     "text": [
      "Some weights of the model checkpoint at bert-base-cased were not used when initializing BertForTokenClassification: ['cls.seq_relationship.bias', 'cls.seq_relationship.weight', 'cls.predictions.transform.dense.bias', 'cls.predictions.decoder.weight', 'cls.predictions.transform.LayerNorm.bias', 'cls.predictions.bias', 'cls.predictions.transform.LayerNorm.weight', 'cls.predictions.transform.dense.weight']\n",
      "- This IS expected if you are initializing BertForTokenClassification from the checkpoint of a model trained on another task or with another architecture (e.g. initializing a BertForSequenceClassification model from a BertForPreTraining model).\n",
      "- This IS NOT expected if you are initializing BertForTokenClassification from the checkpoint of a model that you expect to be exactly identical (initializing a BertForSequenceClassification model from a BertForSequenceClassification model).\n",
      "Some weights of BertForTokenClassification were not initialized from the model checkpoint at bert-base-cased and are newly initialized: ['classifier.weight', 'classifier.bias']\n",
      "You should probably TRAIN this model on a down-stream task to be able to use it for predictions and inference.\n",
      "  0%|          | 0/600 [00:00<?, ?it/s]"
     ]
    }
   ],
   "source": [
    "from torch.utils.data import DataLoader\n",
    "from tqdm import tqdm\n",
    "from torch.optim import SGD\n",
    "\n",
    "def train_loop(model, train_data, dev_data, labels_to_ids, batch_size=4, epochs=10):\n",
    "\n",
    "    train_dataset = DataSequence(train_data, labels_to_ids)\n",
    "    val_dataset = DataSequence(dev_data, labels_to_ids)\n",
    "\n",
    "    train_dataloader = DataLoader(train_dataset, num_workers=4, batch_size=batch_size, shuffle=True)\n",
    "    val_dataloader = DataLoader(val_dataset, num_workers=4, batch_size=batch_size)\n",
    "\n",
    "    use_cuda = torch.cuda.is_available()\n",
    "    device = torch.device(\"cuda\" if use_cuda else \"cpu\")\n",
    "\n",
    "    optimizer = SGD(model.parameters(), lr=LEARNING_RATE)\n",
    "\n",
    "    if use_cuda:\n",
    "        model = model.cuda()\n",
    "\n",
    "    best_acc = 0\n",
    "    best_loss = 1000\n",
    "\n",
    "    for epoch_num in range(epochs):\n",
    "\n",
    "        total_acc_train = 0\n",
    "        total_loss_train = 0\n",
    "\n",
    "        model.train()\n",
    "\n",
    "        for train_data, train_label in tqdm(train_dataloader):\n",
    "\n",
    "            train_label = train_label[0].to(device)\n",
    "            mask = train_data['attention_mask'][0].to(device)\n",
    "            input_id = train_data['input_ids'][0].to(device)\n",
    "\n",
    "            optimizer.zero_grad()\n",
    "            loss, logits = model(input_id, mask, train_label)\n",
    "\n",
    "            logits_clean = logits[0][train_label != -100]\n",
    "            label_clean = train_label[train_label != -100]\n",
    "\n",
    "            predictions = logits_clean.argmax(dim=1)\n",
    "\n",
    "            acc = (predictions == label_clean).float().mean()\n",
    "            total_acc_train += acc\n",
    "            total_loss_train += loss.item()\n",
    "\n",
    "            loss.backward()\n",
    "            optimizer.step()\n",
    "\n",
    "        model.eval()\n",
    "\n",
    "        total_acc_val = 0\n",
    "        total_loss_val = 0\n",
    "\n",
    "        for val_data, val_label in val_dataloader:\n",
    "\n",
    "            val_label = val_label[0].to(device)\n",
    "            mask = val_data['attention_mask'][0].to(device)\n",
    "\n",
    "            input_id = val_data['input_ids'][0].to(device)\n",
    "\n",
    "            loss, logits = model(input_id, mask, val_label)\n",
    "\n",
    "            logits_clean = logits[0][val_label != -100]\n",
    "            label_clean = val_label[val_label != -100]\n",
    "\n",
    "            predictions = logits_clean.argmax(dim=1)          \n",
    "\n",
    "            acc = (predictions == label_clean).float().mean()\n",
    "            total_acc_val += acc\n",
    "            total_loss_val += loss.item()\n",
    "\n",
    "        val_accuracy = total_acc_val / len(dev_data)\n",
    "        val_loss = total_loss_val / len(dev_data)\n",
    "\n",
    "        print(\n",
    "            f'Epochs: {epoch_num + 1} | Loss: {total_loss_train / len(train_data): .3f} | Accuracy: {total_acc_train / len(train_data): .3f} | Val_Loss: {val_loss: .3f} | Accuracy: {val_accuracy: .3f}')\n",
    "        \n",
    "\n",
    "LEARNING_RATE = 1e-2\n",
    "EPOCHS = 5\n",
    "\n",
    "model = BertModel(unique_labels=unique_labels)\n",
    "train_loop(model, train_data, dev_data, labels_to_ids, batch_size=4, epochs=EPOCHS)"
   ]
  }
 ],
 "metadata": {
  "kernelspec": {
   "display_name": "Python 3.8.13 ('pytorch')",
   "language": "python",
   "name": "python3"
  },
  "language_info": {
   "codemirror_mode": {
    "name": "ipython",
    "version": 3
   },
   "file_extension": ".py",
   "mimetype": "text/x-python",
   "name": "python",
   "nbconvert_exporter": "python",
   "pygments_lexer": "ipython3",
   "version": "3.8.13"
  },
  "orig_nbformat": 4,
  "vscode": {
   "interpreter": {
    "hash": "f631b86adf457f338a4428257848576e298574cd5d4f6dd6f5d4f2a8f96b5adb"
   }
  }
 },
 "nbformat": 4,
 "nbformat_minor": 2
}
