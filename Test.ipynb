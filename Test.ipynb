{
 "cells": [
  {
   "cell_type": "code",
   "execution_count": 1,
   "metadata": {},
   "outputs": [
    {
     "name": "stderr",
     "output_type": "stream",
     "text": [
      "/home/hejiansu/anaconda3/envs/deepner/lib/python3.8/site-packages/tqdm/auto.py:22: TqdmWarning: IProgress not found. Please update jupyter and ipywidgets. See https://ipywidgets.readthedocs.io/en/stable/user_install.html\n",
      "  from .autonotebook import tqdm as notebook_tqdm\n",
      "Some weights of the model checkpoint at bert-base-chinese were not used when initializing BertForTokenClassification: ['cls.predictions.bias', 'cls.predictions.transform.LayerNorm.bias', 'cls.predictions.transform.dense.bias', 'cls.seq_relationship.weight', 'cls.predictions.decoder.weight', 'cls.predictions.transform.LayerNorm.weight', 'cls.seq_relationship.bias', 'cls.predictions.transform.dense.weight']\n",
      "- This IS expected if you are initializing BertForTokenClassification from the checkpoint of a model trained on another task or with another architecture (e.g. initializing a BertForSequenceClassification model from a BertForPreTraining model).\n",
      "- This IS NOT expected if you are initializing BertForTokenClassification from the checkpoint of a model that you expect to be exactly identical (initializing a BertForSequenceClassification model from a BertForSequenceClassification model).\n",
      "Some weights of BertForTokenClassification were not initialized from the model checkpoint at bert-base-chinese and are newly initialized: ['classifier.bias', 'classifier.weight']\n",
      "You should probably TRAIN this model on a down-stream task to be able to use it for predictions and inference.\n",
      "/home/hejiansu/anaconda3/envs/deepner/lib/python3.8/site-packages/transformers/optimization.py:306: FutureWarning: This implementation of AdamW is deprecated and will be removed in a future version. Use the PyTorch implementation torch.optim.AdamW instead, or set `no_deprecation_warning=True` to disable this warning\n",
      "  warnings.warn(\n"
     ]
    }
   ],
   "source": [
    "from statistics import mode\n",
    "import pandas as pd\n",
    "from tqdm import tqdm\n",
    "from transformers import BertTokenizer, BertForTokenClassification\n",
    "from torch.utils.data import DataLoader\n",
    "from tools.data_utils import get_unique_tags\n",
    "from tools.data import SequenceLabelingDataset, collate_fn\n",
    "from tools.data_utils import read_jsonl_file\n",
    "from torch.utils.data import RandomSampler, SequentialSampler\n",
    "from train_and_eval import Trainer\n",
    "import torch\n",
    "from config import Config\n",
    "\n",
    "# 加载数据\n",
    "train_data = read_jsonl_file('./data/cluener/conll_format/train.jsonl')\n",
    "dev_data = read_jsonl_file('./data/cluener/conll_format/dev.jsonl')\n",
    "\n",
    "# 得到标签相关信息, 一方面为了将标签转换为索引, 另一方面为BERT初始化时使用\n",
    "unique_tags, labels_to_ids, ids_to_labels = get_unique_tags(train_data)\n",
    "\n",
    "# tokenizer用于处理文本\n",
    "tokenizer = BertTokenizer.from_pretrained('bert-base-chinese')\n",
    "\n",
    "train_dataset = SequenceLabelingDataset(data=train_data, labels_to_ids=labels_to_ids, tokenizer=tokenizer, max_length=128)\n",
    "dev_dataset = SequenceLabelingDataset(data=dev_data, labels_to_ids=labels_to_ids, tokenizer=tokenizer, max_length=128)\n",
    "\n",
    "train_sampler = RandomSampler(train_dataset)\n",
    "train_dataloader = DataLoader(train_dataset, batch_size=32, sampler=train_sampler, collate_fn=collate_fn)\n",
    "\n",
    "dev_sampler = SequentialSampler(dev_dataset)\n",
    "dev_dataloader = DataLoader(dev_dataset, batch_size=32, sampler=dev_sampler, collate_fn=collate_fn)\n",
    "\n",
    "# 模型\n",
    "model = BertForTokenClassification.from_pretrained(\"bert-base-chinese\", num_labels=len(unique_tags))\n",
    "\n",
    "# 超参数等设置\n",
    "opt = Config()\n",
    "# 设置设备, 数据已经移动到config中设置的设备上\n",
    "# 因此需要将模型也移动到相同设备上\n",
    "model = model.to(opt.device)\n",
    "trainer = Trainer(model=model, ids2labels=ids_to_labels, opt=opt)"
   ]
  },
  {
   "cell_type": "code",
   "execution_count": 2,
   "metadata": {},
   "outputs": [
    {
     "name": "stdout",
     "output_type": "stream",
     "text": [
      "epoch: 0\n"
     ]
    },
    {
     "name": "stderr",
     "output_type": "stream",
     "text": [
      "  0%|          | 1/336 [00:00<00:58,  5.75it/s]"
     ]
    },
    {
     "name": "stdout",
     "output_type": "stream",
     "text": [
      "Train Loss: 3.0300095081329346\n"
     ]
    },
    {
     "name": "stderr",
     "output_type": "stream",
     "text": [
      "  1%|          | 2/336 [00:00<00:45,  7.35it/s]"
     ]
    },
    {
     "name": "stdout",
     "output_type": "stream",
     "text": [
      "Train Loss: 2.690946102142334\n"
     ]
    },
    {
     "name": "stderr",
     "output_type": "stream",
     "text": [
      "  1%|          | 4/336 [00:00<00:35,  9.30it/s]"
     ]
    },
    {
     "name": "stdout",
     "output_type": "stream",
     "text": [
      "Train Loss: 2.3266050815582275\n",
      "Train Loss: 2.0836181640625\n",
      "Train Loss: 1.7890201807022095\n"
     ]
    },
    {
     "name": "stderr",
     "output_type": "stream",
     "text": [
      "  2%|▏         | 6/336 [00:00<00:32, 10.29it/s]"
     ]
    },
    {
     "name": "stdout",
     "output_type": "stream",
     "text": [
      "Train Loss: 1.5914076566696167\n",
      "Train Loss: 1.2454619407653809\n"
     ]
    },
    {
     "name": "stderr",
     "output_type": "stream",
     "text": [
      "  2%|▏         | 8/336 [00:00<00:31, 10.36it/s]"
     ]
    },
    {
     "name": "stdout",
     "output_type": "stream",
     "text": [
      "Train Loss: 1.162732481956482\n"
     ]
    },
    {
     "name": "stderr",
     "output_type": "stream",
     "text": [
      "  3%|▎         | 10/336 [00:01<00:30, 10.67it/s]"
     ]
    },
    {
     "name": "stdout",
     "output_type": "stream",
     "text": [
      "Train Loss: 1.3683456182479858\n",
      "Train Loss: 1.533929705619812\n",
      "Train Loss: 1.560036540031433\n"
     ]
    },
    {
     "name": "stderr",
     "output_type": "stream",
     "text": [
      "  4%|▎         | 12/336 [00:01<00:29, 10.96it/s]"
     ]
    },
    {
     "name": "stdout",
     "output_type": "stream",
     "text": [
      "Train Loss: 1.290202260017395\n",
      "Train Loss: 1.6651109457015991\n"
     ]
    },
    {
     "name": "stderr",
     "output_type": "stream",
     "text": [
      "  4%|▍         | 14/336 [00:01<00:29, 11.02it/s]"
     ]
    },
    {
     "name": "stdout",
     "output_type": "stream",
     "text": [
      "Train Loss: 1.4696072340011597\n",
      "Train Loss: 1.271404504776001\n"
     ]
    },
    {
     "name": "stderr",
     "output_type": "stream",
     "text": [
      "  5%|▍         | 16/336 [00:01<00:30, 10.64it/s]"
     ]
    },
    {
     "name": "stdout",
     "output_type": "stream",
     "text": [
      "Train Loss: 1.2912850379943848\n",
      "Train Loss: 1.2389546632766724\n"
     ]
    },
    {
     "name": "stderr",
     "output_type": "stream",
     "text": [
      "  5%|▌         | 18/336 [00:01<00:29, 10.85it/s]"
     ]
    },
    {
     "name": "stdout",
     "output_type": "stream",
     "text": [
      "Train Loss: 1.1870360374450684\n"
     ]
    },
    {
     "name": "stderr",
     "output_type": "stream",
     "text": [
      "  6%|▌         | 20/336 [00:01<00:29, 10.88it/s]"
     ]
    },
    {
     "name": "stdout",
     "output_type": "stream",
     "text": [
      "Train Loss: 1.2093110084533691\n",
      "Train Loss: 1.0285736322402954\n",
      "Train Loss: 1.260375738143921\n"
     ]
    },
    {
     "name": "stderr",
     "output_type": "stream",
     "text": [
      "  7%|▋         | 22/336 [00:02<00:29, 10.78it/s]"
     ]
    },
    {
     "name": "stdout",
     "output_type": "stream",
     "text": [
      "Train Loss: 0.9705803394317627\n",
      "Train Loss: 1.0040225982666016\n"
     ]
    },
    {
     "name": "stderr",
     "output_type": "stream",
     "text": [
      "  7%|▋         | 24/336 [00:02<00:29, 10.69it/s]"
     ]
    },
    {
     "name": "stdout",
     "output_type": "stream",
     "text": [
      "Train Loss: 0.9102575778961182\n"
     ]
    },
    {
     "name": "stderr",
     "output_type": "stream",
     "text": [
      "  8%|▊         | 26/336 [00:02<00:28, 10.77it/s]"
     ]
    },
    {
     "name": "stdout",
     "output_type": "stream",
     "text": [
      "Train Loss: 1.162227749824524\n",
      "Train Loss: 0.9978538751602173\n",
      "Train Loss: 0.9624167680740356\n"
     ]
    },
    {
     "name": "stderr",
     "output_type": "stream",
     "text": [
      "  8%|▊         | 28/336 [00:02<00:29, 10.40it/s]"
     ]
    },
    {
     "name": "stdout",
     "output_type": "stream",
     "text": [
      "Train Loss: 1.0657658576965332\n"
     ]
    },
    {
     "name": "stderr",
     "output_type": "stream",
     "text": [
      "  9%|▉         | 30/336 [00:02<00:29, 10.42it/s]"
     ]
    },
    {
     "name": "stdout",
     "output_type": "stream",
     "text": [
      "Train Loss: 1.008537769317627\n",
      "Train Loss: 1.0266244411468506\n",
      "Train Loss: 0.9162636995315552\n"
     ]
    },
    {
     "name": "stderr",
     "output_type": "stream",
     "text": [
      " 10%|▉         | 32/336 [00:03<00:29, 10.45it/s]"
     ]
    },
    {
     "name": "stdout",
     "output_type": "stream",
     "text": [
      "Train Loss: 0.8351017832756042\n",
      "Train Loss: 1.0643858909606934\n"
     ]
    },
    {
     "name": "stderr",
     "output_type": "stream",
     "text": [
      " 11%|█         | 36/336 [00:03<00:29, 10.30it/s]"
     ]
    },
    {
     "name": "stdout",
     "output_type": "stream",
     "text": [
      "Train Loss: 0.945178747177124\n",
      "Train Loss: 0.857862651348114\n",
      "Train Loss: 0.7741122245788574\n"
     ]
    },
    {
     "name": "stderr",
     "output_type": "stream",
     "text": [
      " 11%|█▏        | 38/336 [00:03<00:28, 10.52it/s]"
     ]
    },
    {
     "name": "stdout",
     "output_type": "stream",
     "text": [
      "Train Loss: 0.8707438707351685\n",
      "Train Loss: 0.9545606970787048\n",
      "Train Loss: 0.8461129665374756\n"
     ]
    },
    {
     "name": "stderr",
     "output_type": "stream",
     "text": [
      " 12%|█▎        | 42/336 [00:04<00:26, 10.98it/s]"
     ]
    },
    {
     "name": "stdout",
     "output_type": "stream",
     "text": [
      "Train Loss: 0.6526214480400085\n",
      "Train Loss: 0.7948918342590332\n",
      "Train Loss: 0.8076978921890259\n"
     ]
    },
    {
     "name": "stderr",
     "output_type": "stream",
     "text": [
      " 13%|█▎        | 44/336 [00:04<00:26, 11.15it/s]"
     ]
    },
    {
     "name": "stdout",
     "output_type": "stream",
     "text": [
      "Train Loss: 0.7042772769927979\n",
      "Train Loss: 0.8098497986793518\n",
      "Train Loss: 0.7157720327377319\n"
     ]
    },
    {
     "name": "stderr",
     "output_type": "stream",
     "text": [
      " 14%|█▍        | 48/336 [00:04<00:26, 10.81it/s]"
     ]
    },
    {
     "name": "stdout",
     "output_type": "stream",
     "text": [
      "Train Loss: 0.7084682583808899\n",
      "Train Loss: 0.7471752166748047\n",
      "Train Loss: 0.6193888187408447\n"
     ]
    },
    {
     "name": "stderr",
     "output_type": "stream",
     "text": [
      " 15%|█▍        | 50/336 [00:04<00:27, 10.34it/s]"
     ]
    },
    {
     "name": "stdout",
     "output_type": "stream",
     "text": [
      "Train Loss: 0.5978847146034241\n",
      "Train Loss: 0.7924633622169495\n",
      "Train Loss: 0.781044065952301\n"
     ]
    },
    {
     "name": "stderr",
     "output_type": "stream",
     "text": [
      " 16%|█▌        | 54/336 [00:05<00:26, 10.64it/s]"
     ]
    },
    {
     "name": "stdout",
     "output_type": "stream",
     "text": [
      "Train Loss: 0.5581181645393372\n",
      "Train Loss: 0.6216174364089966\n",
      "Train Loss: 0.6381852626800537\n"
     ]
    },
    {
     "name": "stderr",
     "output_type": "stream",
     "text": [
      " 17%|█▋        | 56/336 [00:05<00:26, 10.48it/s]"
     ]
    },
    {
     "name": "stdout",
     "output_type": "stream",
     "text": [
      "Train Loss: 0.7421895265579224\n",
      "Train Loss: 0.7139585614204407\n"
     ]
    },
    {
     "name": "stderr",
     "output_type": "stream",
     "text": [
      " 17%|█▋        | 58/336 [00:05<00:26, 10.44it/s]"
     ]
    },
    {
     "name": "stdout",
     "output_type": "stream",
     "text": [
      "Train Loss: 0.6313163638114929\n",
      "Train Loss: 0.8603667616844177\n",
      "Train Loss: 0.7771934866905212\n"
     ]
    },
    {
     "name": "stderr",
     "output_type": "stream",
     "text": [
      " 18%|█▊        | 62/336 [00:05<00:26, 10.51it/s]"
     ]
    },
    {
     "name": "stdout",
     "output_type": "stream",
     "text": [
      "Train Loss: 0.6001527905464172\n",
      "Train Loss: 0.6877785921096802\n",
      "Train Loss: 0.4923718273639679\n"
     ]
    },
    {
     "name": "stderr",
     "output_type": "stream",
     "text": [
      " 19%|█▉        | 64/336 [00:06<00:25, 10.62it/s]"
     ]
    },
    {
     "name": "stdout",
     "output_type": "stream",
     "text": [
      "Train Loss: 0.6230912804603577\n",
      "Train Loss: 0.507088840007782\n",
      "Train Loss: 0.6619923114776611\n"
     ]
    },
    {
     "name": "stderr",
     "output_type": "stream",
     "text": [
      " 20%|██        | 68/336 [00:06<00:25, 10.63it/s]"
     ]
    },
    {
     "name": "stdout",
     "output_type": "stream",
     "text": [
      "Train Loss: 0.6763327717781067\n",
      "Train Loss: 0.5276898145675659\n",
      "Train Loss: 0.5376218557357788\n"
     ]
    },
    {
     "name": "stderr",
     "output_type": "stream",
     "text": [
      " 21%|██        | 70/336 [00:06<00:25, 10.58it/s]"
     ]
    },
    {
     "name": "stdout",
     "output_type": "stream",
     "text": [
      "Train Loss: 0.6014771461486816\n",
      "Train Loss: 0.6112856268882751\n",
      "Train Loss: 0.47690004110336304\n"
     ]
    },
    {
     "name": "stderr",
     "output_type": "stream",
     "text": [
      " 21%|██▏       | 72/336 [00:06<00:24, 10.56it/s]"
     ]
    },
    {
     "name": "stdout",
     "output_type": "stream",
     "text": [
      "Train Loss: 0.462749183177948\n",
      "Train Loss: 0.600182056427002\n"
     ]
    },
    {
     "name": "stderr",
     "output_type": "stream",
     "text": [
      " 22%|██▏       | 74/336 [00:07<00:25, 10.11it/s]"
     ]
    },
    {
     "name": "stdout",
     "output_type": "stream",
     "text": [
      "Train Loss: 0.5507619976997375\n",
      "Train Loss: 0.4221297800540924\n"
     ]
    },
    {
     "name": "stderr",
     "output_type": "stream",
     "text": [
      " 23%|██▎       | 76/336 [00:07<00:26,  9.98it/s]"
     ]
    },
    {
     "name": "stdout",
     "output_type": "stream",
     "text": [
      "Train Loss: 0.5005532503128052\n",
      "Train Loss: 0.6014643311500549\n"
     ]
    },
    {
     "name": "stderr",
     "output_type": "stream",
     "text": [
      " 24%|██▍       | 80/336 [00:07<00:24, 10.27it/s]"
     ]
    },
    {
     "name": "stdout",
     "output_type": "stream",
     "text": [
      "Train Loss: 0.5131027698516846\n",
      "Train Loss: 0.48898011445999146\n",
      "Train Loss: 0.41135600209236145\n"
     ]
    },
    {
     "name": "stderr",
     "output_type": "stream",
     "text": [
      " 24%|██▍       | 82/336 [00:07<00:24, 10.18it/s]"
     ]
    },
    {
     "name": "stdout",
     "output_type": "stream",
     "text": [
      "Train Loss: 0.40349841117858887\n",
      "Train Loss: 0.619425356388092\n",
      "Train Loss: 0.5676483511924744\n"
     ]
    },
    {
     "name": "stderr",
     "output_type": "stream",
     "text": [
      " 26%|██▌       | 86/336 [00:08<00:24, 10.10it/s]"
     ]
    },
    {
     "name": "stdout",
     "output_type": "stream",
     "text": [
      "Train Loss: 0.4147406220436096\n",
      "Train Loss: 0.36081957817077637\n",
      "Train Loss: 0.45163586735725403\n"
     ]
    },
    {
     "name": "stderr",
     "output_type": "stream",
     "text": [
      " 26%|██▌       | 88/336 [00:08<00:23, 10.42it/s]"
     ]
    },
    {
     "name": "stdout",
     "output_type": "stream",
     "text": [
      "Train Loss: 0.5713462233543396\n",
      "Train Loss: 0.40269574522972107\n",
      "Train Loss: 0.41160082817077637\n"
     ]
    },
    {
     "name": "stderr",
     "output_type": "stream",
     "text": [
      " 27%|██▋       | 92/336 [00:08<00:22, 10.78it/s]"
     ]
    },
    {
     "name": "stdout",
     "output_type": "stream",
     "text": [
      "Train Loss: 0.43939468264579773\n",
      "Train Loss: 0.5650771260261536\n",
      "Train Loss: 0.6225453019142151\n"
     ]
    },
    {
     "name": "stderr",
     "output_type": "stream",
     "text": [
      " 28%|██▊       | 94/336 [00:08<00:22, 10.87it/s]"
     ]
    },
    {
     "name": "stdout",
     "output_type": "stream",
     "text": [
      "Train Loss: 0.49211713671684265\n",
      "Train Loss: 0.4227447807788849\n",
      "Train Loss: 0.355055034160614\n"
     ]
    },
    {
     "name": "stderr",
     "output_type": "stream",
     "text": [
      " 29%|██▊       | 96/336 [00:09<00:22, 10.90it/s]"
     ]
    },
    {
     "name": "stdout",
     "output_type": "stream",
     "text": [
      "Train Loss: 0.4130595922470093\n",
      "Train Loss: 0.4268299639225006\n"
     ]
    },
    {
     "name": "stderr",
     "output_type": "stream",
     "text": [
      " 29%|██▉       | 98/336 [00:09<00:23, 10.17it/s]"
     ]
    },
    {
     "name": "stdout",
     "output_type": "stream",
     "text": [
      "Train Loss: 0.4244370460510254\n",
      "Train Loss: 0.404506117105484\n"
     ]
    },
    {
     "name": "stderr",
     "output_type": "stream",
     "text": [
      " 30%|███       | 102/336 [00:09<00:22, 10.25it/s]"
     ]
    },
    {
     "name": "stdout",
     "output_type": "stream",
     "text": [
      "Train Loss: 0.5121686458587646\n",
      "Train Loss: 0.3947146236896515\n",
      "Train Loss: 0.473071813583374\n"
     ]
    },
    {
     "name": "stderr",
     "output_type": "stream",
     "text": [
      " 31%|███       | 104/336 [00:09<00:21, 10.60it/s]"
     ]
    },
    {
     "name": "stdout",
     "output_type": "stream",
     "text": [
      "Train Loss: 0.3589186668395996\n",
      "Train Loss: 0.4581640660762787\n",
      "Train Loss: 0.32333093881607056\n"
     ]
    },
    {
     "name": "stderr",
     "output_type": "stream",
     "text": [
      " 32%|███▏      | 108/336 [00:10<00:21, 10.77it/s]"
     ]
    },
    {
     "name": "stdout",
     "output_type": "stream",
     "text": [
      "Train Loss: 0.288164883852005\n",
      "Train Loss: 0.4465191960334778\n",
      "Train Loss: 0.3667866885662079\n"
     ]
    },
    {
     "name": "stderr",
     "output_type": "stream",
     "text": [
      " 33%|███▎      | 110/336 [00:10<00:20, 10.91it/s]"
     ]
    },
    {
     "name": "stdout",
     "output_type": "stream",
     "text": [
      "Train Loss: 0.2999896705150604\n",
      "Train Loss: 0.47845348715782166\n",
      "Train Loss: 0.3459734618663788\n"
     ]
    },
    {
     "name": "stderr",
     "output_type": "stream",
     "text": [
      " 34%|███▍      | 114/336 [00:10<00:19, 11.15it/s]"
     ]
    },
    {
     "name": "stdout",
     "output_type": "stream",
     "text": [
      "Train Loss: 0.28432774543762207\n",
      "Train Loss: 0.3316394090652466\n",
      "Train Loss: 0.35925257205963135\n"
     ]
    },
    {
     "name": "stderr",
     "output_type": "stream",
     "text": [
      " 35%|███▍      | 116/336 [00:11<00:20, 10.96it/s]"
     ]
    },
    {
     "name": "stdout",
     "output_type": "stream",
     "text": [
      "Train Loss: 0.32396790385246277\n",
      "Train Loss: 0.2973965108394623\n",
      "Train Loss: 0.38654449582099915\n"
     ]
    },
    {
     "name": "stderr",
     "output_type": "stream",
     "text": [
      " 36%|███▌      | 120/336 [00:11<00:20, 10.49it/s]"
     ]
    },
    {
     "name": "stdout",
     "output_type": "stream",
     "text": [
      "Train Loss: 0.309417188167572\n",
      "Train Loss: 0.30137941241264343\n",
      "Train Loss: 0.37491485476493835\n"
     ]
    },
    {
     "name": "stderr",
     "output_type": "stream",
     "text": [
      " 36%|███▋      | 122/336 [00:11<00:20, 10.48it/s]"
     ]
    },
    {
     "name": "stdout",
     "output_type": "stream",
     "text": [
      "Train Loss: 0.38099363446235657\n",
      "Train Loss: 0.34696850180625916\n",
      "Train Loss: 0.2797086834907532\n"
     ]
    },
    {
     "name": "stderr",
     "output_type": "stream",
     "text": [
      " 38%|███▊      | 126/336 [00:12<00:20, 10.31it/s]"
     ]
    },
    {
     "name": "stdout",
     "output_type": "stream",
     "text": [
      "Train Loss: 0.4023907780647278\n",
      "Train Loss: 0.24982155859470367\n",
      "Train Loss: 0.32413288950920105\n"
     ]
    },
    {
     "name": "stderr",
     "output_type": "stream",
     "text": [
      " 38%|███▊      | 128/336 [00:12<00:20, 10.30it/s]"
     ]
    },
    {
     "name": "stdout",
     "output_type": "stream",
     "text": [
      "Train Loss: 0.3489978611469269\n",
      "Train Loss: 0.2524435222148895\n",
      "Train Loss: 0.27380791306495667\n"
     ]
    },
    {
     "name": "stderr",
     "output_type": "stream",
     "text": [
      " 39%|███▉      | 132/336 [00:12<00:19, 10.29it/s]"
     ]
    },
    {
     "name": "stdout",
     "output_type": "stream",
     "text": [
      "Train Loss: 0.32684028148651123\n",
      "Train Loss: 0.2819793224334717\n",
      "Train Loss: 0.37907475233078003\n"
     ]
    },
    {
     "name": "stderr",
     "output_type": "stream",
     "text": [
      " 40%|███▉      | 134/336 [00:12<00:19, 10.13it/s]"
     ]
    },
    {
     "name": "stdout",
     "output_type": "stream",
     "text": [
      "Train Loss: 0.3207997679710388\n",
      "Train Loss: 0.24524694681167603\n"
     ]
    },
    {
     "name": "stderr",
     "output_type": "stream",
     "text": [
      " 40%|████      | 136/336 [00:13<00:20,  9.92it/s]"
     ]
    },
    {
     "name": "stdout",
     "output_type": "stream",
     "text": [
      "Train Loss: 0.2708606719970703\n",
      "Train Loss: 0.4000213146209717\n",
      "Train Loss: 0.31331485509872437\n"
     ]
    },
    {
     "name": "stderr",
     "output_type": "stream",
     "text": [
      " 42%|████▏     | 140/336 [00:13<00:19, 10.12it/s]"
     ]
    },
    {
     "name": "stdout",
     "output_type": "stream",
     "text": [
      "Train Loss: 0.2337830513715744\n",
      "Train Loss: 0.3561713993549347\n",
      "Train Loss: 0.2988109886646271\n"
     ]
    },
    {
     "name": "stderr",
     "output_type": "stream",
     "text": [
      " 42%|████▏     | 142/336 [00:13<00:19, 10.15it/s]"
     ]
    },
    {
     "name": "stdout",
     "output_type": "stream",
     "text": [
      "Train Loss: 0.23062224686145782\n",
      "Train Loss: 0.3374738395214081\n",
      "Train Loss: 0.27537429332733154\n"
     ]
    },
    {
     "name": "stderr",
     "output_type": "stream",
     "text": [
      " 43%|████▎     | 146/336 [00:13<00:18, 10.34it/s]"
     ]
    },
    {
     "name": "stdout",
     "output_type": "stream",
     "text": [
      "Train Loss: 0.2886807918548584\n",
      "Train Loss: 0.2507533133029938\n",
      "Train Loss: 0.23102349042892456\n"
     ]
    },
    {
     "name": "stderr",
     "output_type": "stream",
     "text": [
      " 44%|████▍     | 148/336 [00:14<00:18, 10.13it/s]"
     ]
    },
    {
     "name": "stdout",
     "output_type": "stream",
     "text": [
      "Train Loss: 0.36856165528297424\n",
      "Train Loss: 0.2153071165084839\n"
     ]
    },
    {
     "name": "stderr",
     "output_type": "stream",
     "text": [
      " 45%|████▍     | 150/336 [00:14<00:18, 10.15it/s]"
     ]
    },
    {
     "name": "stdout",
     "output_type": "stream",
     "text": [
      "Train Loss: 0.31152230501174927\n",
      "Train Loss: 0.35738444328308105\n",
      "Train Loss: 0.4499610960483551\n"
     ]
    },
    {
     "name": "stderr",
     "output_type": "stream",
     "text": [
      " 46%|████▌     | 154/336 [00:14<00:17, 10.23it/s]"
     ]
    },
    {
     "name": "stdout",
     "output_type": "stream",
     "text": [
      "Train Loss: 0.20455986261367798\n",
      "Train Loss: 0.24467210471630096\n",
      "Train Loss: 0.3306732475757599\n"
     ]
    },
    {
     "name": "stderr",
     "output_type": "stream",
     "text": [
      " 46%|████▋     | 156/336 [00:14<00:17, 10.26it/s]"
     ]
    },
    {
     "name": "stdout",
     "output_type": "stream",
     "text": [
      "Train Loss: 0.2612508237361908\n",
      "Train Loss: 0.3684868812561035\n",
      "Train Loss: 0.27705904841423035\n"
     ]
    },
    {
     "name": "stderr",
     "output_type": "stream",
     "text": [
      " 47%|████▋     | 158/336 [00:15<00:17, 10.26it/s]"
     ]
    },
    {
     "name": "stdout",
     "output_type": "stream",
     "text": [
      "Train Loss: 0.2820810377597809\n",
      "Train Loss: 0.37769946455955505\n"
     ]
    },
    {
     "name": "stderr",
     "output_type": "stream",
     "text": [
      " 48%|████▊     | 162/336 [00:15<00:17, 10.08it/s]"
     ]
    },
    {
     "name": "stdout",
     "output_type": "stream",
     "text": [
      "Train Loss: 0.33908069133758545\n",
      "Train Loss: 0.21038925647735596\n",
      "Train Loss: 0.32614466547966003\n"
     ]
    },
    {
     "name": "stderr",
     "output_type": "stream",
     "text": [
      " 49%|████▉     | 164/336 [00:15<00:17, 10.08it/s]"
     ]
    },
    {
     "name": "stdout",
     "output_type": "stream",
     "text": [
      "Train Loss: 0.2460741549730301\n",
      "Train Loss: 0.18864256143569946\n",
      "Train Loss: 0.2786925137042999\n"
     ]
    },
    {
     "name": "stderr",
     "output_type": "stream",
     "text": [
      " 50%|█████     | 168/336 [00:16<00:16, 10.29it/s]"
     ]
    },
    {
     "name": "stdout",
     "output_type": "stream",
     "text": [
      "Train Loss: 0.360563725233078\n",
      "Train Loss: 0.30343368649482727\n",
      "Train Loss: 0.3642047047615051\n"
     ]
    },
    {
     "name": "stderr",
     "output_type": "stream",
     "text": [
      " 51%|█████     | 170/336 [00:16<00:16, 10.27it/s]"
     ]
    },
    {
     "name": "stdout",
     "output_type": "stream",
     "text": [
      "Train Loss: 0.33297237753868103\n",
      "Train Loss: 0.29439476132392883\n",
      "Train Loss: 0.27283498644828796\n"
     ]
    },
    {
     "name": "stderr",
     "output_type": "stream",
     "text": [
      " 51%|█████     | 172/336 [00:16<00:15, 10.30it/s]"
     ]
    },
    {
     "name": "stdout",
     "output_type": "stream",
     "text": [
      "Train Loss: 0.21938571333885193\n",
      "Train Loss: 0.2917335033416748\n"
     ]
    },
    {
     "name": "stderr",
     "output_type": "stream",
     "text": [
      " 52%|█████▏    | 176/336 [00:16<00:15, 10.25it/s]"
     ]
    },
    {
     "name": "stdout",
     "output_type": "stream",
     "text": [
      "Train Loss: 0.36231735348701477\n",
      "Train Loss: 0.3476632535457611\n",
      "Train Loss: 0.20305848121643066\n"
     ]
    },
    {
     "name": "stderr",
     "output_type": "stream",
     "text": [
      " 53%|█████▎    | 178/336 [00:17<00:15, 10.33it/s]"
     ]
    },
    {
     "name": "stdout",
     "output_type": "stream",
     "text": [
      "Train Loss: 0.32334351539611816\n",
      "Train Loss: 0.4017014503479004\n",
      "Train Loss: 0.3136732280254364\n"
     ]
    },
    {
     "name": "stderr",
     "output_type": "stream",
     "text": [
      " 54%|█████▍    | 182/336 [00:17<00:14, 10.40it/s]"
     ]
    },
    {
     "name": "stdout",
     "output_type": "stream",
     "text": [
      "Train Loss: 0.34247127175331116\n",
      "Train Loss: 0.287521630525589\n",
      "Train Loss: 0.2890084385871887\n"
     ]
    },
    {
     "name": "stderr",
     "output_type": "stream",
     "text": [
      " 55%|█████▍    | 184/336 [00:17<00:14, 10.24it/s]"
     ]
    },
    {
     "name": "stdout",
     "output_type": "stream",
     "text": [
      "Train Loss: 0.18528887629508972\n",
      "Train Loss: 0.22031420469284058\n",
      "Train Loss: 0.3561810851097107\n"
     ]
    },
    {
     "name": "stderr",
     "output_type": "stream",
     "text": [
      " 56%|█████▌    | 188/336 [00:18<00:14, 10.48it/s]"
     ]
    },
    {
     "name": "stdout",
     "output_type": "stream",
     "text": [
      "Train Loss: 0.3596666157245636\n",
      "Train Loss: 0.24493329226970673\n",
      "Train Loss: 0.3564237356185913\n"
     ]
    },
    {
     "name": "stderr",
     "output_type": "stream",
     "text": [
      " 57%|█████▋    | 190/336 [00:18<00:13, 10.51it/s]"
     ]
    },
    {
     "name": "stdout",
     "output_type": "stream",
     "text": [
      "Train Loss: 0.36082956194877625\n",
      "Train Loss: 0.17988073825836182\n",
      "Train Loss: 0.2540215253829956\n"
     ]
    },
    {
     "name": "stderr",
     "output_type": "stream",
     "text": [
      " 58%|█████▊    | 194/336 [00:18<00:13, 10.48it/s]"
     ]
    },
    {
     "name": "stdout",
     "output_type": "stream",
     "text": [
      "Train Loss: 0.23351052403450012\n",
      "Train Loss: 0.22690637409687042\n",
      "Train Loss: 0.2990269064903259\n"
     ]
    },
    {
     "name": "stderr",
     "output_type": "stream",
     "text": [
      " 58%|█████▊    | 196/336 [00:18<00:13, 10.50it/s]"
     ]
    },
    {
     "name": "stdout",
     "output_type": "stream",
     "text": [
      "Train Loss: 0.24903710186481476\n",
      "Train Loss: 0.22527429461479187\n",
      "Train Loss: 0.32328206300735474\n"
     ]
    },
    {
     "name": "stderr",
     "output_type": "stream",
     "text": [
      " 60%|█████▉    | 200/336 [00:19<00:13, 10.41it/s]"
     ]
    },
    {
     "name": "stdout",
     "output_type": "stream",
     "text": [
      "Train Loss: 0.32988154888153076\n",
      "Train Loss: 0.2777097821235657\n",
      "Train Loss: 0.22847966849803925\n"
     ]
    },
    {
     "name": "stderr",
     "output_type": "stream",
     "text": [
      " 60%|██████    | 202/336 [00:19<00:13, 10.14it/s]"
     ]
    },
    {
     "name": "stdout",
     "output_type": "stream",
     "text": [
      "Train Loss: 0.17547665536403656\n",
      "Train Loss: 0.2974695861339569\n"
     ]
    },
    {
     "name": "stderr",
     "output_type": "stream",
     "text": [
      " 61%|██████    | 204/336 [00:19<00:13, 10.07it/s]"
     ]
    },
    {
     "name": "stdout",
     "output_type": "stream",
     "text": [
      "Train Loss: 0.30275630950927734\n",
      "Train Loss: 0.21280977129936218\n",
      "Train Loss: 0.2540759742259979\n"
     ]
    },
    {
     "name": "stderr",
     "output_type": "stream",
     "text": [
      " 62%|██████▏   | 208/336 [00:20<00:12, 10.24it/s]"
     ]
    },
    {
     "name": "stdout",
     "output_type": "stream",
     "text": [
      "Train Loss: 0.2723962962627411\n",
      "Train Loss: 0.27729305624961853\n",
      "Train Loss: 0.30034399032592773\n"
     ]
    },
    {
     "name": "stderr",
     "output_type": "stream",
     "text": [
      " 62%|██████▎   | 210/336 [00:20<00:12, 10.20it/s]"
     ]
    },
    {
     "name": "stdout",
     "output_type": "stream",
     "text": [
      "Train Loss: 0.18843017518520355\n",
      "Train Loss: 0.18969114124774933\n"
     ]
    },
    {
     "name": "stderr",
     "output_type": "stream",
     "text": [
      " 63%|██████▎   | 212/336 [00:20<00:12, 10.13it/s]"
     ]
    },
    {
     "name": "stdout",
     "output_type": "stream",
     "text": [
      "Train Loss: 0.28296220302581787\n",
      "Train Loss: 0.17484436929225922\n",
      "Train Loss: 0.20124372839927673\n"
     ]
    },
    {
     "name": "stderr",
     "output_type": "stream",
     "text": [
      " 64%|██████▍   | 216/336 [00:20<00:11, 10.20it/s]"
     ]
    },
    {
     "name": "stdout",
     "output_type": "stream",
     "text": [
      "Train Loss: 0.26781678199768066\n",
      "Train Loss: 0.26485949754714966\n",
      "Train Loss: 0.20195864140987396\n"
     ]
    },
    {
     "name": "stderr",
     "output_type": "stream",
     "text": [
      " 65%|██████▍   | 218/336 [00:21<00:12,  9.68it/s]"
     ]
    },
    {
     "name": "stdout",
     "output_type": "stream",
     "text": [
      "Train Loss: 0.23710381984710693\n",
      "Train Loss: 0.30589544773101807\n"
     ]
    },
    {
     "name": "stderr",
     "output_type": "stream",
     "text": [
      " 65%|██████▌   | 220/336 [00:21<00:11,  9.88it/s]"
     ]
    },
    {
     "name": "stdout",
     "output_type": "stream",
     "text": [
      "Train Loss: 0.30483222007751465\n",
      "Train Loss: 0.25924447178840637\n",
      "Train Loss: 0.21065156161785126\n"
     ]
    },
    {
     "name": "stderr",
     "output_type": "stream",
     "text": [
      " 66%|██████▋   | 223/336 [00:21<00:11,  9.52it/s]"
     ]
    },
    {
     "name": "stdout",
     "output_type": "stream",
     "text": [
      "Train Loss: 0.2307603508234024\n",
      "Train Loss: 0.20415101945400238\n"
     ]
    },
    {
     "name": "stderr",
     "output_type": "stream",
     "text": [
      " 67%|██████▋   | 225/336 [00:21<00:11,  9.84it/s]"
     ]
    },
    {
     "name": "stdout",
     "output_type": "stream",
     "text": [
      "Train Loss: 0.34817272424697876\n",
      "Train Loss: 0.2360157072544098\n",
      "Train Loss: 0.18083855509757996\n"
     ]
    },
    {
     "name": "stderr",
     "output_type": "stream",
     "text": [
      " 68%|██████▊   | 229/336 [00:22<00:10,  9.89it/s]"
     ]
    },
    {
     "name": "stdout",
     "output_type": "stream",
     "text": [
      "Train Loss: 0.27590376138687134\n",
      "Train Loss: 0.27123692631721497\n",
      "Train Loss: 0.24201248586177826\n"
     ]
    },
    {
     "name": "stderr",
     "output_type": "stream",
     "text": [
      " 69%|██████▉   | 231/336 [00:22<00:10, 10.07it/s]"
     ]
    },
    {
     "name": "stdout",
     "output_type": "stream",
     "text": [
      "Train Loss: 0.15719299018383026\n",
      "Train Loss: 0.1445721834897995\n",
      "Train Loss: 0.23246929049491882\n"
     ]
    },
    {
     "name": "stderr",
     "output_type": "stream",
     "text": [
      " 70%|██████▉   | 235/336 [00:22<00:09, 10.34it/s]"
     ]
    },
    {
     "name": "stdout",
     "output_type": "stream",
     "text": [
      "Train Loss: 0.2274349182844162\n",
      "Train Loss: 0.18813849985599518\n",
      "Train Loss: 0.23520906269550323\n"
     ]
    },
    {
     "name": "stderr",
     "output_type": "stream",
     "text": [
      " 71%|███████   | 237/336 [00:22<00:09, 10.36it/s]"
     ]
    },
    {
     "name": "stdout",
     "output_type": "stream",
     "text": [
      "Train Loss: 0.2656087577342987\n",
      "Train Loss: 0.2222711741924286\n",
      "Train Loss: 0.16375994682312012\n"
     ]
    },
    {
     "name": "stderr",
     "output_type": "stream",
     "text": [
      " 72%|███████▏  | 241/336 [00:23<00:09, 10.38it/s]"
     ]
    },
    {
     "name": "stdout",
     "output_type": "stream",
     "text": [
      "Train Loss: 0.2685244083404541\n",
      "Train Loss: 0.36926230788230896\n",
      "Train Loss: 0.38620683550834656\n"
     ]
    },
    {
     "name": "stderr",
     "output_type": "stream",
     "text": [
      " 72%|███████▏  | 243/336 [00:23<00:09, 10.03it/s]"
     ]
    },
    {
     "name": "stdout",
     "output_type": "stream",
     "text": [
      "Train Loss: 0.21502715349197388\n",
      "Train Loss: 0.291407972574234\n"
     ]
    },
    {
     "name": "stderr",
     "output_type": "stream",
     "text": [
      " 73%|███████▎  | 245/336 [00:23<00:09, 10.10it/s]"
     ]
    },
    {
     "name": "stdout",
     "output_type": "stream",
     "text": [
      "Train Loss: 0.29976099729537964\n",
      "Train Loss: 0.27704599499702454\n",
      "Train Loss: 0.32637184858322144\n"
     ]
    },
    {
     "name": "stderr",
     "output_type": "stream",
     "text": [
      " 74%|███████▍  | 249/336 [00:24<00:08, 10.09it/s]"
     ]
    },
    {
     "name": "stdout",
     "output_type": "stream",
     "text": [
      "Train Loss: 0.24919219315052032\n",
      "Train Loss: 0.19616496562957764\n",
      "Train Loss: 0.2817181348800659\n"
     ]
    },
    {
     "name": "stderr",
     "output_type": "stream",
     "text": [
      " 75%|███████▍  | 251/336 [00:24<00:08, 10.49it/s]"
     ]
    },
    {
     "name": "stdout",
     "output_type": "stream",
     "text": [
      "Train Loss: 0.2714104652404785\n",
      "Train Loss: 0.2792091369628906\n"
     ]
    },
    {
     "name": "stderr",
     "output_type": "stream",
     "text": [
      " 75%|███████▌  | 253/336 [00:24<00:08, 10.08it/s]"
     ]
    },
    {
     "name": "stdout",
     "output_type": "stream",
     "text": [
      "Train Loss: 0.19501501321792603\n",
      "Train Loss: 0.1588914841413498\n",
      "Train Loss: 0.22913286089897156\n"
     ]
    },
    {
     "name": "stderr",
     "output_type": "stream",
     "text": [
      " 76%|███████▋  | 257/336 [00:24<00:07, 10.11it/s]"
     ]
    },
    {
     "name": "stdout",
     "output_type": "stream",
     "text": [
      "Train Loss: 0.3028670847415924\n",
      "Train Loss: 0.2521347999572754\n",
      "Train Loss: 0.3271993398666382\n"
     ]
    },
    {
     "name": "stderr",
     "output_type": "stream",
     "text": [
      " 77%|███████▋  | 259/336 [00:25<00:07,  9.88it/s]"
     ]
    },
    {
     "name": "stdout",
     "output_type": "stream",
     "text": [
      "Train Loss: 0.4471018314361572\n",
      "Train Loss: 0.1749807745218277\n"
     ]
    },
    {
     "name": "stderr",
     "output_type": "stream",
     "text": [
      " 78%|███████▊  | 261/336 [00:25<00:07, 10.08it/s]"
     ]
    },
    {
     "name": "stdout",
     "output_type": "stream",
     "text": [
      "Train Loss: 0.18970650434494019\n",
      "Train Loss: 0.24158166348934174\n"
     ]
    },
    {
     "name": "stderr",
     "output_type": "stream",
     "text": [
      " 78%|███████▊  | 263/336 [00:25<00:07,  9.81it/s]"
     ]
    },
    {
     "name": "stdout",
     "output_type": "stream",
     "text": [
      "Train Loss: 0.19115009903907776\n",
      "Train Loss: 0.1915934681892395\n",
      "Train Loss: 0.28069981932640076\n"
     ]
    },
    {
     "name": "stderr",
     "output_type": "stream",
     "text": [
      " 79%|███████▉  | 267/336 [00:25<00:06, 10.11it/s]"
     ]
    },
    {
     "name": "stdout",
     "output_type": "stream",
     "text": [
      "Train Loss: 0.4137919545173645\n",
      "Train Loss: 0.27298226952552795\n",
      "Train Loss: 0.30992573499679565\n"
     ]
    },
    {
     "name": "stderr",
     "output_type": "stream",
     "text": [
      " 80%|████████  | 269/336 [00:26<00:06, 10.10it/s]"
     ]
    },
    {
     "name": "stdout",
     "output_type": "stream",
     "text": [
      "Train Loss: 0.22239069640636444\n",
      "Train Loss: 0.29831838607788086\n",
      "Train Loss: 0.416522353887558\n"
     ]
    },
    {
     "name": "stderr",
     "output_type": "stream",
     "text": [
      " 81%|████████▏ | 273/336 [00:26<00:06, 10.20it/s]"
     ]
    },
    {
     "name": "stdout",
     "output_type": "stream",
     "text": [
      "Train Loss: 0.2783623933792114\n",
      "Train Loss: 0.16514089703559875\n",
      "Train Loss: 0.1960759162902832\n"
     ]
    },
    {
     "name": "stderr",
     "output_type": "stream",
     "text": [
      " 82%|████████▏ | 275/336 [00:26<00:05, 10.28it/s]"
     ]
    },
    {
     "name": "stdout",
     "output_type": "stream",
     "text": [
      "Train Loss: 0.31624704599380493\n",
      "Train Loss: 0.20079630613327026\n",
      "Train Loss: 0.34567388892173767\n"
     ]
    },
    {
     "name": "stderr",
     "output_type": "stream",
     "text": [
      " 83%|████████▎ | 279/336 [00:27<00:05, 10.68it/s]"
     ]
    },
    {
     "name": "stdout",
     "output_type": "stream",
     "text": [
      "Train Loss: 0.2724442780017853\n",
      "Train Loss: 0.32520729303359985\n",
      "Train Loss: 0.3411438763141632\n"
     ]
    },
    {
     "name": "stderr",
     "output_type": "stream",
     "text": [
      " 84%|████████▎ | 281/336 [00:27<00:05, 10.76it/s]"
     ]
    },
    {
     "name": "stdout",
     "output_type": "stream",
     "text": [
      "Train Loss: 0.1429416537284851\n",
      "Train Loss: 0.3210592567920685\n",
      "Train Loss: 0.25093570351600647\n"
     ]
    },
    {
     "name": "stderr",
     "output_type": "stream",
     "text": [
      " 85%|████████▍ | 285/336 [00:27<00:04, 10.82it/s]"
     ]
    },
    {
     "name": "stdout",
     "output_type": "stream",
     "text": [
      "Train Loss: 0.2293211668729782\n",
      "Train Loss: 0.2770249843597412\n",
      "Train Loss: 0.19851599633693695\n"
     ]
    },
    {
     "name": "stderr",
     "output_type": "stream",
     "text": [
      " 85%|████████▌ | 287/336 [00:27<00:04, 10.93it/s]"
     ]
    },
    {
     "name": "stdout",
     "output_type": "stream",
     "text": [
      "Train Loss: 0.3231089413166046\n",
      "Train Loss: 0.3302440047264099\n",
      "Train Loss: 0.2384689450263977\n"
     ]
    },
    {
     "name": "stderr",
     "output_type": "stream",
     "text": [
      " 87%|████████▋ | 291/336 [00:28<00:04, 10.51it/s]"
     ]
    },
    {
     "name": "stdout",
     "output_type": "stream",
     "text": [
      "Train Loss: 0.2468433380126953\n",
      "Train Loss: 0.189395010471344\n",
      "Train Loss: 0.2022855430841446\n"
     ]
    },
    {
     "name": "stderr",
     "output_type": "stream",
     "text": [
      " 87%|████████▋ | 293/336 [00:28<00:04, 10.48it/s]"
     ]
    },
    {
     "name": "stdout",
     "output_type": "stream",
     "text": [
      "Train Loss: 0.27019214630126953\n",
      "Train Loss: 0.2323817014694214\n",
      "Train Loss: 0.3038855493068695\n"
     ]
    },
    {
     "name": "stderr",
     "output_type": "stream",
     "text": [
      " 88%|████████▊ | 297/336 [00:28<00:03, 10.67it/s]"
     ]
    },
    {
     "name": "stdout",
     "output_type": "stream",
     "text": [
      "Train Loss: 0.22868067026138306\n",
      "Train Loss: 0.2301419973373413\n",
      "Train Loss: 0.2099025696516037\n"
     ]
    },
    {
     "name": "stderr",
     "output_type": "stream",
     "text": [
      " 89%|████████▉ | 299/336 [00:28<00:03, 10.69it/s]"
     ]
    },
    {
     "name": "stdout",
     "output_type": "stream",
     "text": [
      "Train Loss: 0.35239794850349426\n",
      "Train Loss: 0.2614401578903198\n",
      "Train Loss: 0.30387282371520996\n"
     ]
    },
    {
     "name": "stderr",
     "output_type": "stream",
     "text": [
      " 90%|█████████ | 303/336 [00:29<00:03, 10.61it/s]"
     ]
    },
    {
     "name": "stdout",
     "output_type": "stream",
     "text": [
      "Train Loss: 0.1872483640909195\n",
      "Train Loss: 0.2011457085609436\n",
      "Train Loss: 0.1811559647321701\n"
     ]
    },
    {
     "name": "stderr",
     "output_type": "stream",
     "text": [
      " 91%|█████████ | 305/336 [00:29<00:02, 10.60it/s]"
     ]
    },
    {
     "name": "stdout",
     "output_type": "stream",
     "text": [
      "Train Loss: 0.20080643892288208\n",
      "Train Loss: 0.32453736662864685\n",
      "Train Loss: 0.20796242356300354\n"
     ]
    },
    {
     "name": "stderr",
     "output_type": "stream",
     "text": [
      " 92%|█████████▏| 309/336 [00:29<00:02, 10.49it/s]"
     ]
    },
    {
     "name": "stdout",
     "output_type": "stream",
     "text": [
      "Train Loss: 0.3284573256969452\n",
      "Train Loss: 0.2086172252893448\n",
      "Train Loss: 0.21366657316684723\n"
     ]
    },
    {
     "name": "stderr",
     "output_type": "stream",
     "text": [
      " 93%|█████████▎| 311/336 [00:30<00:02, 10.41it/s]"
     ]
    },
    {
     "name": "stdout",
     "output_type": "stream",
     "text": [
      "Train Loss: 0.19904528558254242\n",
      "Train Loss: 0.2156629115343094\n",
      "Train Loss: 0.2680298686027527\n"
     ]
    },
    {
     "name": "stderr",
     "output_type": "stream",
     "text": [
      " 94%|█████████▍| 315/336 [00:30<00:02, 10.46it/s]"
     ]
    },
    {
     "name": "stdout",
     "output_type": "stream",
     "text": [
      "Train Loss: 0.15254761278629303\n",
      "Train Loss: 0.4253371059894562\n",
      "Train Loss: 0.1758074313402176\n"
     ]
    },
    {
     "name": "stderr",
     "output_type": "stream",
     "text": [
      " 94%|█████████▍| 317/336 [00:30<00:01, 10.50it/s]"
     ]
    },
    {
     "name": "stdout",
     "output_type": "stream",
     "text": [
      "Train Loss: 0.22958676517009735\n",
      "Train Loss: 0.18264035880565643\n",
      "Train Loss: 0.14458276331424713\n"
     ]
    },
    {
     "name": "stderr",
     "output_type": "stream",
     "text": [
      " 96%|█████████▌| 321/336 [00:31<00:01, 10.60it/s]"
     ]
    },
    {
     "name": "stdout",
     "output_type": "stream",
     "text": [
      "Train Loss: 0.2238233983516693\n",
      "Train Loss: 0.1759757697582245\n",
      "Train Loss: 0.15219761431217194\n"
     ]
    },
    {
     "name": "stderr",
     "output_type": "stream",
     "text": [
      " 96%|█████████▌| 323/336 [00:31<00:01, 10.61it/s]"
     ]
    },
    {
     "name": "stdout",
     "output_type": "stream",
     "text": [
      "Train Loss: 0.2621096968650818\n",
      "Train Loss: 0.30107152462005615\n",
      "Train Loss: 0.1910620778799057\n"
     ]
    },
    {
     "name": "stderr",
     "output_type": "stream",
     "text": [
      " 97%|█████████▋| 327/336 [00:31<00:00, 10.71it/s]"
     ]
    },
    {
     "name": "stdout",
     "output_type": "stream",
     "text": [
      "Train Loss: 0.22294928133487701\n",
      "Train Loss: 0.23191900551319122\n",
      "Train Loss: 0.15451999008655548\n"
     ]
    },
    {
     "name": "stderr",
     "output_type": "stream",
     "text": [
      " 98%|█████████▊| 329/336 [00:31<00:00, 10.67it/s]"
     ]
    },
    {
     "name": "stdout",
     "output_type": "stream",
     "text": [
      "Train Loss: 0.29532870650291443\n",
      "Train Loss: 0.328626811504364\n",
      "Train Loss: 0.22212104499340057\n"
     ]
    },
    {
     "name": "stderr",
     "output_type": "stream",
     "text": [
      " 99%|█████████▊| 331/336 [00:31<00:00, 10.66it/s]"
     ]
    },
    {
     "name": "stdout",
     "output_type": "stream",
     "text": [
      "Train Loss: 0.21938751637935638\n",
      "Train Loss: 0.34662526845932007\n",
      "Train Loss: 0.3209538757801056\n"
     ]
    },
    {
     "name": "stderr",
     "output_type": "stream",
     "text": [
      "100%|█████████▉| 335/336 [00:32<00:00,  9.86it/s]"
     ]
    },
    {
     "name": "stdout",
     "output_type": "stream",
     "text": [
      "Train Loss: 0.2527259290218353\n",
      "Train Loss: 0.2119031548500061\n"
     ]
    },
    {
     "name": "stderr",
     "output_type": "stream",
     "text": [
      "100%|██████████| 336/336 [00:32<00:00, 10.35it/s]\n"
     ]
    },
    {
     "name": "stdout",
     "output_type": "stream",
     "text": [
      "Train Loss: 0.2307620495557785\n",
      "Evaluating...\n",
      "*****Evaluation Results in Epoch 0*****\n",
      " acc: 0.7471 - recall: 0.7484 - f1: 0.7478 - loss: 9.4110 \n",
      "***** Entity results in Epoch 0 *****\n",
      "address\n",
      " acc: 0.5476 - recall: 0.6371 - f1: 0.5890 \n",
      "book\n",
      " acc: 0.8054 - recall: 0.7895 - f1: 0.7973 \n",
      "company\n",
      " acc: 0.7609 - recall: 0.7650 - f1: 0.7629 \n",
      "game\n",
      " acc: 0.7536 - recall: 0.7378 - f1: 0.7456 \n",
      "government\n",
      " acc: 0.7882 - recall: 0.8238 - f1: 0.8056 \n",
      "movie\n",
      " acc: 0.7945 - recall: 0.7733 - f1: 0.7838 \n",
      "name\n",
      " acc: 0.8497 - recall: 0.8784 - f1: 0.8638 \n",
      "organization\n",
      " acc: 0.7341 - recall: 0.7085 - f1: 0.7211 \n",
      "position\n",
      " acc: 0.8097 - recall: 0.7123 - f1: 0.7578 \n",
      "scene\n",
      " acc: 0.6684 - recall: 0.6482 - f1: 0.6582 \n",
      "epoch: 1\n"
     ]
    },
    {
     "name": "stderr",
     "output_type": "stream",
     "text": [
      "  0%|          | 1/336 [00:00<00:34,  9.67it/s]"
     ]
    },
    {
     "name": "stdout",
     "output_type": "stream",
     "text": [
      "Train Loss: 0.18385988473892212\n"
     ]
    },
    {
     "name": "stderr",
     "output_type": "stream",
     "text": [
      "  1%|          | 2/336 [00:00<00:36,  9.15it/s]"
     ]
    },
    {
     "name": "stdout",
     "output_type": "stream",
     "text": [
      "Train Loss: 0.16204074025154114\n",
      "Train Loss: 0.2946447730064392\n"
     ]
    },
    {
     "name": "stderr",
     "output_type": "stream",
     "text": [
      "  1%|          | 4/336 [00:00<00:35,  9.29it/s]"
     ]
    },
    {
     "name": "stdout",
     "output_type": "stream",
     "text": [
      "Train Loss: 0.20370222628116608\n"
     ]
    },
    {
     "name": "stderr",
     "output_type": "stream",
     "text": [
      "  1%|▏         | 5/336 [00:00<00:34,  9.49it/s]"
     ]
    },
    {
     "name": "stdout",
     "output_type": "stream",
     "text": [
      "Train Loss: 0.14868707954883575\n",
      "Train Loss: 0.18012061715126038\n"
     ]
    },
    {
     "name": "stderr",
     "output_type": "stream",
     "text": [
      "  2%|▏         | 7/336 [00:00<00:32, 10.07it/s]"
     ]
    },
    {
     "name": "stdout",
     "output_type": "stream",
     "text": [
      "Train Loss: 0.2180660218000412\n",
      "Train Loss: 0.2319401651620865\n"
     ]
    },
    {
     "name": "stderr",
     "output_type": "stream",
     "text": [
      "  3%|▎         | 9/336 [00:00<00:33,  9.90it/s]"
     ]
    },
    {
     "name": "stdout",
     "output_type": "stream",
     "text": [
      "Train Loss: 0.17727424204349518\n",
      "Train Loss: 0.21805325150489807\n"
     ]
    },
    {
     "name": "stderr",
     "output_type": "stream",
     "text": [
      "  3%|▎         | 11/336 [00:01<00:33,  9.83it/s]"
     ]
    },
    {
     "name": "stdout",
     "output_type": "stream",
     "text": [
      "Train Loss: 0.22970081865787506\n"
     ]
    },
    {
     "name": "stderr",
     "output_type": "stream",
     "text": [
      "  4%|▎         | 12/336 [00:01<00:34,  9.43it/s]"
     ]
    },
    {
     "name": "stdout",
     "output_type": "stream",
     "text": [
      "Train Loss: 0.2208162397146225\n",
      "Train Loss: 0.18301686644554138\n"
     ]
    },
    {
     "name": "stderr",
     "output_type": "stream",
     "text": [
      "  4%|▍         | 14/336 [00:01<00:33,  9.62it/s]"
     ]
    },
    {
     "name": "stdout",
     "output_type": "stream",
     "text": [
      "Train Loss: 0.2362131029367447\n"
     ]
    },
    {
     "name": "stderr",
     "output_type": "stream",
     "text": [
      "  4%|▍         | 15/336 [00:01<00:33,  9.56it/s]"
     ]
    },
    {
     "name": "stdout",
     "output_type": "stream",
     "text": [
      "Train Loss: 0.21510550379753113\n",
      "Train Loss: 0.16770988702774048\n"
     ]
    },
    {
     "name": "stderr",
     "output_type": "stream",
     "text": [
      "  5%|▌         | 17/336 [00:01<00:32,  9.72it/s]"
     ]
    },
    {
     "name": "stdout",
     "output_type": "stream",
     "text": [
      "Train Loss: 0.1878313571214676\n"
     ]
    },
    {
     "name": "stderr",
     "output_type": "stream",
     "text": [
      "  5%|▌         | 18/336 [00:01<00:33,  9.53it/s]"
     ]
    },
    {
     "name": "stdout",
     "output_type": "stream",
     "text": [
      "Train Loss: 0.13559281826019287\n"
     ]
    },
    {
     "name": "stderr",
     "output_type": "stream",
     "text": [
      "  6%|▌         | 20/336 [00:02<00:31, 10.15it/s]"
     ]
    },
    {
     "name": "stdout",
     "output_type": "stream",
     "text": [
      "Train Loss: 0.1495906412601471\n",
      "Train Loss: 0.17443640530109406\n",
      "Train Loss: 0.23354345560073853\n"
     ]
    },
    {
     "name": "stderr",
     "output_type": "stream",
     "text": [
      "  7%|▋         | 22/336 [00:02<00:31, 10.05it/s]"
     ]
    },
    {
     "name": "stdout",
     "output_type": "stream",
     "text": [
      "Train Loss: 0.14510130882263184\n",
      "Train Loss: 0.1394771933555603\n"
     ]
    },
    {
     "name": "stderr",
     "output_type": "stream",
     "text": [
      "  7%|▋         | 24/336 [00:02<00:31,  9.94it/s]"
     ]
    },
    {
     "name": "stdout",
     "output_type": "stream",
     "text": [
      "Train Loss: 0.17676672339439392\n",
      "Train Loss: 0.12494786828756332\n"
     ]
    },
    {
     "name": "stderr",
     "output_type": "stream",
     "text": [
      "  8%|▊         | 26/336 [00:02<00:31,  9.80it/s]"
     ]
    },
    {
     "name": "stdout",
     "output_type": "stream",
     "text": [
      "Train Loss: 0.18380406498908997\n"
     ]
    },
    {
     "name": "stderr",
     "output_type": "stream",
     "text": [
      "  8%|▊         | 28/336 [00:02<00:31,  9.93it/s]"
     ]
    },
    {
     "name": "stdout",
     "output_type": "stream",
     "text": [
      "Train Loss: 0.23229022324085236\n",
      "Train Loss: 0.19711153209209442\n"
     ]
    },
    {
     "name": "stderr",
     "output_type": "stream",
     "text": [
      "  9%|▊         | 29/336 [00:02<00:31,  9.90it/s]"
     ]
    },
    {
     "name": "stdout",
     "output_type": "stream",
     "text": [
      "Train Loss: 0.13301756978034973\n",
      "Train Loss: 0.14620357751846313\n"
     ]
    },
    {
     "name": "stderr",
     "output_type": "stream",
     "text": [
      " 10%|▉         | 33/336 [00:03<00:29, 10.18it/s]"
     ]
    },
    {
     "name": "stdout",
     "output_type": "stream",
     "text": [
      "Train Loss: 0.194607675075531\n",
      "Train Loss: 0.21279770135879517\n",
      "Train Loss: 0.1639353632926941\n"
     ]
    },
    {
     "name": "stderr",
     "output_type": "stream",
     "text": [
      " 10%|█         | 35/336 [00:03<00:28, 10.58it/s]"
     ]
    },
    {
     "name": "stdout",
     "output_type": "stream",
     "text": [
      "Train Loss: 0.19723111391067505\n",
      "Train Loss: 0.22860410809516907\n",
      "Train Loss: 0.15525195002555847\n"
     ]
    },
    {
     "name": "stderr",
     "output_type": "stream",
     "text": [
      " 12%|█▏        | 39/336 [00:03<00:26, 11.11it/s]"
     ]
    },
    {
     "name": "stdout",
     "output_type": "stream",
     "text": [
      "Train Loss: 0.13587062060832977\n",
      "Train Loss: 0.1590249091386795\n",
      "Train Loss: 0.21158520877361298\n"
     ]
    },
    {
     "name": "stderr",
     "output_type": "stream",
     "text": [
      " 12%|█▏        | 41/336 [00:04<00:26, 11.14it/s]"
     ]
    },
    {
     "name": "stdout",
     "output_type": "stream",
     "text": [
      "Train Loss: 0.16420412063598633\n",
      "Train Loss: 0.213438019156456\n",
      "Train Loss: 0.15814654529094696\n"
     ]
    },
    {
     "name": "stderr",
     "output_type": "stream",
     "text": [
      " 13%|█▎        | 45/336 [00:04<00:25, 11.37it/s]"
     ]
    },
    {
     "name": "stdout",
     "output_type": "stream",
     "text": [
      "Train Loss: 0.1491210162639618\n",
      "Train Loss: 0.16192910075187683\n",
      "Train Loss: 0.16847071051597595\n"
     ]
    },
    {
     "name": "stderr",
     "output_type": "stream",
     "text": [
      " 14%|█▍        | 47/336 [00:04<00:28, 10.25it/s]"
     ]
    },
    {
     "name": "stdout",
     "output_type": "stream",
     "text": [
      "Train Loss: 0.1523706018924713\n",
      "Train Loss: 0.27057963609695435\n",
      "Train Loss: 0.21429555118083954\n"
     ]
    },
    {
     "name": "stderr",
     "output_type": "stream",
     "text": [
      " 15%|█▌        | 51/336 [00:04<00:26, 10.87it/s]"
     ]
    },
    {
     "name": "stdout",
     "output_type": "stream",
     "text": [
      "Train Loss: 0.1860855519771576\n",
      "Train Loss: 0.263935923576355\n",
      "Train Loss: 0.20397277176380157\n"
     ]
    },
    {
     "name": "stderr",
     "output_type": "stream",
     "text": [
      " 16%|█▌        | 53/336 [00:05<00:25, 11.09it/s]"
     ]
    },
    {
     "name": "stdout",
     "output_type": "stream",
     "text": [
      "Train Loss: 0.13393612205982208\n",
      "Train Loss: 0.19131238758563995\n",
      "Train Loss: 0.16350635886192322\n"
     ]
    },
    {
     "name": "stderr",
     "output_type": "stream",
     "text": [
      " 17%|█▋        | 57/336 [00:05<00:25, 10.79it/s]"
     ]
    },
    {
     "name": "stdout",
     "output_type": "stream",
     "text": [
      "Train Loss: 0.23388279974460602\n",
      "Train Loss: 0.18243548274040222\n",
      "Train Loss: 0.20214106142520905\n"
     ]
    },
    {
     "name": "stderr",
     "output_type": "stream",
     "text": [
      " 18%|█▊        | 59/336 [00:05<00:26, 10.64it/s]"
     ]
    },
    {
     "name": "stdout",
     "output_type": "stream",
     "text": [
      "Train Loss: 0.12478965520858765\n",
      "Train Loss: 0.19166535139083862\n",
      "Train Loss: 0.23353056609630585\n"
     ]
    },
    {
     "name": "stderr",
     "output_type": "stream",
     "text": [
      " 18%|█▊        | 61/336 [00:05<00:25, 10.58it/s]"
     ]
    },
    {
     "name": "stdout",
     "output_type": "stream",
     "text": [
      "Train Loss: 0.2791976034641266\n",
      "Train Loss: 0.18010033667087555\n"
     ]
    },
    {
     "name": "stderr",
     "output_type": "stream",
     "text": [
      " 19%|█▉        | 65/336 [00:06<00:26, 10.41it/s]"
     ]
    },
    {
     "name": "stdout",
     "output_type": "stream",
     "text": [
      "Train Loss: 0.09345471858978271\n",
      "Train Loss: 0.2111912965774536\n",
      "Train Loss: 0.13433264195919037\n"
     ]
    },
    {
     "name": "stderr",
     "output_type": "stream",
     "text": [
      " 20%|█▉        | 67/336 [00:06<00:26, 10.20it/s]"
     ]
    },
    {
     "name": "stdout",
     "output_type": "stream",
     "text": [
      "Train Loss: 0.19891375303268433\n",
      "Train Loss: 0.10473281145095825\n",
      "Train Loss: 0.1622771918773651\n"
     ]
    },
    {
     "name": "stderr",
     "output_type": "stream",
     "text": [
      " 21%|██        | 71/336 [00:06<00:25, 10.24it/s]"
     ]
    },
    {
     "name": "stdout",
     "output_type": "stream",
     "text": [
      "Train Loss: 0.2528243660926819\n",
      "Train Loss: 0.15020599961280823\n",
      "Train Loss: 0.17836765944957733\n"
     ]
    },
    {
     "name": "stderr",
     "output_type": "stream",
     "text": [
      " 22%|██▏       | 73/336 [00:07<00:26, 10.08it/s]"
     ]
    },
    {
     "name": "stdout",
     "output_type": "stream",
     "text": [
      "Train Loss: 0.2128702998161316\n",
      "Train Loss: 0.21730585396289825\n",
      "Train Loss: 0.32690170407295227\n"
     ]
    },
    {
     "name": "stderr",
     "output_type": "stream",
     "text": [
      " 23%|██▎       | 77/336 [00:07<00:25, 10.17it/s]"
     ]
    },
    {
     "name": "stdout",
     "output_type": "stream",
     "text": [
      "Train Loss: 0.1668967753648758\n",
      "Train Loss: 0.17713195085525513\n",
      "Train Loss: 0.24659143388271332\n"
     ]
    },
    {
     "name": "stderr",
     "output_type": "stream",
     "text": [
      " 24%|██▎       | 79/336 [00:07<00:26,  9.80it/s]"
     ]
    },
    {
     "name": "stdout",
     "output_type": "stream",
     "text": [
      "Train Loss: 0.2069728821516037\n",
      "Train Loss: 0.18378375470638275\n"
     ]
    },
    {
     "name": "stderr",
     "output_type": "stream",
     "text": [
      " 24%|██▍       | 80/336 [00:07<00:27,  9.48it/s]"
     ]
    },
    {
     "name": "stdout",
     "output_type": "stream",
     "text": [
      "Train Loss: 0.1689724326133728\n",
      "Train Loss: 0.19650118052959442\n"
     ]
    },
    {
     "name": "stderr",
     "output_type": "stream",
     "text": [
      " 25%|██▍       | 83/336 [00:08<00:27,  9.26it/s]"
     ]
    },
    {
     "name": "stdout",
     "output_type": "stream",
     "text": [
      "Train Loss: 0.26044362783432007\n",
      "Train Loss: 0.24019354581832886\n"
     ]
    },
    {
     "name": "stderr",
     "output_type": "stream",
     "text": [
      " 25%|██▌       | 85/336 [00:08<00:28,  8.73it/s]"
     ]
    },
    {
     "name": "stdout",
     "output_type": "stream",
     "text": [
      "Train Loss: 0.13657869398593903\n",
      "Train Loss: 0.21830451488494873\n"
     ]
    },
    {
     "name": "stderr",
     "output_type": "stream",
     "text": [
      " 26%|██▌       | 87/336 [00:08<00:29,  8.36it/s]"
     ]
    },
    {
     "name": "stdout",
     "output_type": "stream",
     "text": [
      "Train Loss: 0.1005391851067543\n",
      "Train Loss: 0.13917382061481476\n"
     ]
    },
    {
     "name": "stderr",
     "output_type": "stream",
     "text": [
      " 26%|██▋       | 89/336 [00:08<00:28,  8.76it/s]"
     ]
    },
    {
     "name": "stdout",
     "output_type": "stream",
     "text": [
      "Train Loss: 0.19945283234119415\n",
      "Train Loss: 0.1370457410812378\n"
     ]
    },
    {
     "name": "stderr",
     "output_type": "stream",
     "text": [
      " 27%|██▋       | 91/336 [00:09<00:28,  8.61it/s]"
     ]
    },
    {
     "name": "stdout",
     "output_type": "stream",
     "text": [
      "Train Loss: 0.24743586778640747\n",
      "Train Loss: 0.25715625286102295\n"
     ]
    },
    {
     "name": "stderr",
     "output_type": "stream",
     "text": [
      " 28%|██▊       | 93/336 [00:09<00:26,  9.33it/s]"
     ]
    },
    {
     "name": "stdout",
     "output_type": "stream",
     "text": [
      "Train Loss: 0.12311558425426483\n",
      "Train Loss: 0.1519513577222824\n",
      "Train Loss: 0.15903350710868835\n"
     ]
    },
    {
     "name": "stderr",
     "output_type": "stream",
     "text": [
      " 28%|██▊       | 95/336 [00:09<00:25,  9.54it/s]"
     ]
    },
    {
     "name": "stdout",
     "output_type": "stream",
     "text": [
      "Train Loss: 0.23635412752628326\n",
      "Train Loss: 0.21678678691387177\n"
     ]
    },
    {
     "name": "stderr",
     "output_type": "stream",
     "text": [
      " 29%|██▉       | 99/336 [00:09<00:23, 10.12it/s]"
     ]
    },
    {
     "name": "stdout",
     "output_type": "stream",
     "text": [
      "Train Loss: 0.18308177590370178\n",
      "Train Loss: 0.19984284043312073\n",
      "Train Loss: 0.19176647067070007\n"
     ]
    },
    {
     "name": "stderr",
     "output_type": "stream",
     "text": [
      " 30%|███       | 101/336 [00:10<00:22, 10.26it/s]"
     ]
    },
    {
     "name": "stdout",
     "output_type": "stream",
     "text": [
      "Train Loss: 0.3144265115261078\n",
      "Train Loss: 0.14162185788154602\n",
      "Train Loss: 0.19463631510734558\n"
     ]
    },
    {
     "name": "stderr",
     "output_type": "stream",
     "text": [
      " 31%|███       | 103/336 [00:10<00:22, 10.56it/s]"
     ]
    },
    {
     "name": "stdout",
     "output_type": "stream",
     "text": [
      "Train Loss: 0.16828672587871552\n",
      "Train Loss: 0.1746203601360321\n"
     ]
    },
    {
     "name": "stderr",
     "output_type": "stream",
     "text": [
      " 32%|███▏      | 107/336 [00:10<00:22, 10.16it/s]"
     ]
    },
    {
     "name": "stdout",
     "output_type": "stream",
     "text": [
      "Train Loss: 0.20355716347694397\n",
      "Train Loss: 0.17139379680156708\n",
      "Train Loss: 0.25428178906440735\n"
     ]
    },
    {
     "name": "stderr",
     "output_type": "stream",
     "text": [
      " 32%|███▏      | 109/336 [00:10<00:22, 10.30it/s]"
     ]
    },
    {
     "name": "stdout",
     "output_type": "stream",
     "text": [
      "Train Loss: 0.12225968390703201\n",
      "Train Loss: 0.22855789959430695\n"
     ]
    },
    {
     "name": "stderr",
     "output_type": "stream",
     "text": [
      " 33%|███▎      | 111/336 [00:11<00:21, 10.24it/s]"
     ]
    },
    {
     "name": "stdout",
     "output_type": "stream",
     "text": [
      "Train Loss: 0.20516254007816315\n",
      "Train Loss: 0.14465388655662537\n",
      "Train Loss: 0.19679014384746552\n"
     ]
    },
    {
     "name": "stderr",
     "output_type": "stream",
     "text": [
      " 34%|███▍      | 115/336 [00:11<00:20, 10.72it/s]"
     ]
    },
    {
     "name": "stdout",
     "output_type": "stream",
     "text": [
      "Train Loss: 0.18646204471588135\n",
      "Train Loss: 0.19967612624168396\n",
      "Train Loss: 0.2114803045988083\n"
     ]
    },
    {
     "name": "stderr",
     "output_type": "stream",
     "text": [
      " 35%|███▍      | 117/336 [00:11<00:20, 10.72it/s]"
     ]
    },
    {
     "name": "stdout",
     "output_type": "stream",
     "text": [
      "Train Loss: 0.20633897185325623\n",
      "Train Loss: 0.24278098344802856\n",
      "Train Loss: 0.24214625358581543\n"
     ]
    },
    {
     "name": "stderr",
     "output_type": "stream",
     "text": [
      " 36%|███▌      | 121/336 [00:11<00:19, 10.80it/s]"
     ]
    },
    {
     "name": "stdout",
     "output_type": "stream",
     "text": [
      "Train Loss: 0.23385849595069885\n",
      "Train Loss: 0.17416319251060486\n",
      "Train Loss: 0.28847745060920715\n"
     ]
    },
    {
     "name": "stderr",
     "output_type": "stream",
     "text": [
      " 37%|███▋      | 123/336 [00:12<00:19, 10.94it/s]"
     ]
    },
    {
     "name": "stdout",
     "output_type": "stream",
     "text": [
      "Train Loss: 0.25075843930244446\n",
      "Train Loss: 0.17022858560085297\n",
      "Train Loss: 0.2267383337020874\n"
     ]
    },
    {
     "name": "stderr",
     "output_type": "stream",
     "text": [
      " 38%|███▊      | 127/336 [00:12<00:19, 10.99it/s]"
     ]
    },
    {
     "name": "stdout",
     "output_type": "stream",
     "text": [
      "Train Loss: 0.140619695186615\n",
      "Train Loss: 0.1544514149427414\n",
      "Train Loss: 0.2447056919336319\n"
     ]
    },
    {
     "name": "stderr",
     "output_type": "stream",
     "text": [
      " 38%|███▊      | 129/336 [00:12<00:18, 11.23it/s]"
     ]
    },
    {
     "name": "stdout",
     "output_type": "stream",
     "text": [
      "Train Loss: 0.16083954274654388\n",
      "Train Loss: 0.19104281067848206\n",
      "Train Loss: 0.14903686940670013\n"
     ]
    },
    {
     "name": "stderr",
     "output_type": "stream",
     "text": [
      " 40%|███▉      | 133/336 [00:13<00:18, 11.07it/s]"
     ]
    },
    {
     "name": "stdout",
     "output_type": "stream",
     "text": [
      "Train Loss: 0.16381721198558807\n",
      "Train Loss: 0.21860644221305847\n",
      "Train Loss: 0.19001950323581696\n"
     ]
    },
    {
     "name": "stderr",
     "output_type": "stream",
     "text": [
      " 40%|████      | 135/336 [00:13<00:18, 10.98it/s]"
     ]
    },
    {
     "name": "stdout",
     "output_type": "stream",
     "text": [
      "Train Loss: 0.14471222460269928\n",
      "Train Loss: 0.1657923460006714\n"
     ]
    },
    {
     "name": "stderr",
     "output_type": "stream",
     "text": [
      " 41%|████      | 137/336 [00:13<00:19, 10.42it/s]"
     ]
    },
    {
     "name": "stdout",
     "output_type": "stream",
     "text": [
      "Train Loss: 0.23839408159255981\n",
      "Train Loss: 0.15064162015914917\n"
     ]
    },
    {
     "name": "stderr",
     "output_type": "stream",
     "text": [
      " 41%|████▏     | 139/336 [00:13<00:20,  9.59it/s]"
     ]
    },
    {
     "name": "stdout",
     "output_type": "stream",
     "text": [
      "Train Loss: 0.13033662736415863\n",
      "Train Loss: 0.22232823073863983\n"
     ]
    },
    {
     "name": "stderr",
     "output_type": "stream",
     "text": [
      " 42%|████▏     | 141/336 [00:13<00:20,  9.40it/s]"
     ]
    },
    {
     "name": "stdout",
     "output_type": "stream",
     "text": [
      "Train Loss: 0.18180319666862488\n",
      "Train Loss: 0.1309269815683365\n"
     ]
    },
    {
     "name": "stderr",
     "output_type": "stream",
     "text": [
      " 43%|████▎     | 143/336 [00:14<00:20,  9.56it/s]"
     ]
    },
    {
     "name": "stdout",
     "output_type": "stream",
     "text": [
      "Train Loss: 0.22653022408485413\n",
      "Train Loss: 0.19188529253005981\n"
     ]
    },
    {
     "name": "stderr",
     "output_type": "stream",
     "text": [
      " 43%|████▎     | 146/336 [00:14<00:19,  9.66it/s]"
     ]
    },
    {
     "name": "stdout",
     "output_type": "stream",
     "text": [
      "Train Loss: 0.21446654200553894\n",
      "Train Loss: 0.21473000943660736\n",
      "Train Loss: 0.21350568532943726\n"
     ]
    },
    {
     "name": "stderr",
     "output_type": "stream",
     "text": [
      " 44%|████▍     | 148/336 [00:14<00:18,  9.95it/s]"
     ]
    },
    {
     "name": "stdout",
     "output_type": "stream",
     "text": [
      "Train Loss: 0.23832477629184723\n",
      "Train Loss: 0.15213289856910706\n",
      "Train Loss: 0.1587371677160263\n"
     ]
    },
    {
     "name": "stderr",
     "output_type": "stream",
     "text": [
      " 45%|████▍     | 150/336 [00:14<00:18, 10.21it/s]"
     ]
    },
    {
     "name": "stdout",
     "output_type": "stream",
     "text": [
      "Train Loss: 0.22841931879520416\n",
      "Train Loss: 0.2101801186800003\n"
     ]
    },
    {
     "name": "stderr",
     "output_type": "stream",
     "text": [
      " 46%|████▌     | 154/336 [00:15<00:17, 10.35it/s]"
     ]
    },
    {
     "name": "stdout",
     "output_type": "stream",
     "text": [
      "Train Loss: 0.22539843618869781\n",
      "Train Loss: 0.21893906593322754\n",
      "Train Loss: 0.16317711770534515\n"
     ]
    },
    {
     "name": "stderr",
     "output_type": "stream",
     "text": [
      " 46%|████▋     | 156/336 [00:15<00:17, 10.42it/s]"
     ]
    },
    {
     "name": "stdout",
     "output_type": "stream",
     "text": [
      "Train Loss: 0.24331143498420715\n",
      "Train Loss: 0.20599333941936493\n",
      "Train Loss: 0.17917963862419128\n"
     ]
    },
    {
     "name": "stderr",
     "output_type": "stream",
     "text": [
      " 47%|████▋     | 158/336 [00:15<00:17, 10.30it/s]"
     ]
    },
    {
     "name": "stdout",
     "output_type": "stream",
     "text": [
      "Train Loss: 0.13587410748004913\n",
      "Train Loss: 0.1878715604543686\n"
     ]
    },
    {
     "name": "stderr",
     "output_type": "stream",
     "text": [
      " 48%|████▊     | 162/336 [00:15<00:17, 10.22it/s]"
     ]
    },
    {
     "name": "stdout",
     "output_type": "stream",
     "text": [
      "Train Loss: 0.11940696835517883\n",
      "Train Loss: 0.1567762792110443\n",
      "Train Loss: 0.21093524992465973\n"
     ]
    },
    {
     "name": "stderr",
     "output_type": "stream",
     "text": [
      " 49%|████▉     | 164/336 [00:16<00:17, 10.04it/s]"
     ]
    },
    {
     "name": "stdout",
     "output_type": "stream",
     "text": [
      "Train Loss: 0.12596796452999115\n",
      "Train Loss: 0.2877272665500641\n",
      "Train Loss: 0.19193784892559052\n"
     ]
    },
    {
     "name": "stderr",
     "output_type": "stream",
     "text": [
      " 50%|████▉     | 167/336 [00:16<00:17,  9.82it/s]"
     ]
    },
    {
     "name": "stdout",
     "output_type": "stream",
     "text": [
      "Train Loss: 0.20138715207576752\n",
      "Train Loss: 0.11903921514749527\n",
      "Train Loss: 0.3039802312850952\n"
     ]
    },
    {
     "name": "stderr",
     "output_type": "stream",
     "text": [
      " 51%|█████     | 171/336 [00:16<00:15, 10.55it/s]"
     ]
    },
    {
     "name": "stdout",
     "output_type": "stream",
     "text": [
      "Train Loss: 0.22062848508358002\n",
      "Train Loss: 0.24118703603744507\n",
      "Train Loss: 0.21930457651615143\n"
     ]
    },
    {
     "name": "stderr",
     "output_type": "stream",
     "text": [
      " 51%|█████▏    | 173/336 [00:17<00:15, 10.33it/s]"
     ]
    },
    {
     "name": "stdout",
     "output_type": "stream",
     "text": [
      "Train Loss: 0.22210265696048737\n",
      "Train Loss: 0.2826545238494873\n",
      "Train Loss: 0.22237178683280945\n"
     ]
    },
    {
     "name": "stderr",
     "output_type": "stream",
     "text": [
      " 53%|█████▎    | 177/336 [00:17<00:15, 10.33it/s]"
     ]
    },
    {
     "name": "stdout",
     "output_type": "stream",
     "text": [
      "Train Loss: 0.1640055775642395\n",
      "Train Loss: 0.2330319732427597\n",
      "Train Loss: 0.20571772754192352\n"
     ]
    },
    {
     "name": "stderr",
     "output_type": "stream",
     "text": [
      " 53%|█████▎    | 179/336 [00:17<00:15, 10.36it/s]"
     ]
    },
    {
     "name": "stdout",
     "output_type": "stream",
     "text": [
      "Train Loss: 0.17550496757030487\n",
      "Train Loss: 0.15555159747600555\n",
      "Train Loss: 0.13849709928035736\n"
     ]
    },
    {
     "name": "stderr",
     "output_type": "stream",
     "text": [
      " 54%|█████▍    | 183/336 [00:17<00:14, 10.88it/s]"
     ]
    },
    {
     "name": "stdout",
     "output_type": "stream",
     "text": [
      "Train Loss: 0.1619081348180771\n",
      "Train Loss: 0.24672172963619232\n",
      "Train Loss: 0.23020850121974945\n"
     ]
    },
    {
     "name": "stderr",
     "output_type": "stream",
     "text": [
      " 55%|█████▌    | 185/336 [00:18<00:14, 10.62it/s]"
     ]
    },
    {
     "name": "stdout",
     "output_type": "stream",
     "text": [
      "Train Loss: 0.10914620757102966\n",
      "Train Loss: 0.1624613255262375\n",
      "Train Loss: 0.1862184852361679\n"
     ]
    },
    {
     "name": "stderr",
     "output_type": "stream",
     "text": [
      " 56%|█████▋    | 189/336 [00:18<00:13, 10.75it/s]"
     ]
    },
    {
     "name": "stdout",
     "output_type": "stream",
     "text": [
      "Train Loss: 0.17559507489204407\n",
      "Train Loss: 0.23909437656402588\n",
      "Train Loss: 0.18842394649982452\n"
     ]
    },
    {
     "name": "stderr",
     "output_type": "stream",
     "text": [
      " 57%|█████▋    | 191/336 [00:18<00:13, 10.94it/s]"
     ]
    },
    {
     "name": "stdout",
     "output_type": "stream",
     "text": [
      "Train Loss: 0.16236087679862976\n",
      "Train Loss: 0.13623441755771637\n",
      "Train Loss: 0.22249504923820496\n"
     ]
    },
    {
     "name": "stderr",
     "output_type": "stream",
     "text": [
      " 58%|█████▊    | 195/336 [00:19<00:12, 11.02it/s]"
     ]
    },
    {
     "name": "stdout",
     "output_type": "stream",
     "text": [
      "Train Loss: 0.1958809196949005\n",
      "Train Loss: 0.17865753173828125\n",
      "Train Loss: 0.20646007359027863\n"
     ]
    },
    {
     "name": "stderr",
     "output_type": "stream",
     "text": [
      " 59%|█████▊    | 197/336 [00:19<00:12, 11.13it/s]"
     ]
    },
    {
     "name": "stdout",
     "output_type": "stream",
     "text": [
      "Train Loss: 0.16939371824264526\n",
      "Train Loss: 0.20284403860569\n",
      "Train Loss: 0.2020423263311386\n"
     ]
    },
    {
     "name": "stderr",
     "output_type": "stream",
     "text": [
      " 60%|█████▉    | 201/336 [00:19<00:12, 10.87it/s]"
     ]
    },
    {
     "name": "stdout",
     "output_type": "stream",
     "text": [
      "Train Loss: 0.11493746191263199\n",
      "Train Loss: 0.2282571792602539\n",
      "Train Loss: 0.18528927862644196\n"
     ]
    },
    {
     "name": "stderr",
     "output_type": "stream",
     "text": [
      " 60%|██████    | 203/336 [00:19<00:12, 11.04it/s]"
     ]
    },
    {
     "name": "stdout",
     "output_type": "stream",
     "text": [
      "Train Loss: 0.17016378045082092\n",
      "Train Loss: 0.21079447865486145\n",
      "Train Loss: 0.17779971659183502\n"
     ]
    },
    {
     "name": "stderr",
     "output_type": "stream",
     "text": [
      " 61%|██████    | 205/336 [00:19<00:11, 11.25it/s]"
     ]
    },
    {
     "name": "stdout",
     "output_type": "stream",
     "text": [
      "Train Loss: 0.18444325029850006\n",
      "Train Loss: 0.19514767825603485\n"
     ]
    },
    {
     "name": "stderr",
     "output_type": "stream",
     "text": [
      " 62%|██████▏   | 209/336 [00:20<00:11, 10.83it/s]"
     ]
    },
    {
     "name": "stdout",
     "output_type": "stream",
     "text": [
      "Train Loss: 0.20917922258377075\n",
      "Train Loss: 0.2098471075296402\n",
      "Train Loss: 0.25675976276397705\n"
     ]
    },
    {
     "name": "stderr",
     "output_type": "stream",
     "text": [
      " 63%|██████▎   | 211/336 [00:20<00:11, 10.81it/s]"
     ]
    },
    {
     "name": "stdout",
     "output_type": "stream",
     "text": [
      "Train Loss: 0.24164451658725739\n",
      "Train Loss: 0.16026130318641663\n",
      "Train Loss: 0.20433077216148376\n"
     ]
    },
    {
     "name": "stderr",
     "output_type": "stream",
     "text": [
      " 64%|██████▍   | 215/336 [00:20<00:10, 11.04it/s]"
     ]
    },
    {
     "name": "stdout",
     "output_type": "stream",
     "text": [
      "Train Loss: 0.1598079353570938\n",
      "Train Loss: 0.17840059101581573\n",
      "Train Loss: 0.16748669743537903\n"
     ]
    },
    {
     "name": "stderr",
     "output_type": "stream",
     "text": [
      " 65%|██████▍   | 217/336 [00:21<00:10, 11.14it/s]"
     ]
    },
    {
     "name": "stdout",
     "output_type": "stream",
     "text": [
      "Train Loss: 0.2516334056854248\n",
      "Train Loss: 0.17829196155071259\n",
      "Train Loss: 0.18930694460868835\n"
     ]
    },
    {
     "name": "stderr",
     "output_type": "stream",
     "text": [
      " 66%|██████▌   | 221/336 [00:21<00:10, 10.75it/s]"
     ]
    },
    {
     "name": "stdout",
     "output_type": "stream",
     "text": [
      "Train Loss: 0.18295961618423462\n",
      "Train Loss: 0.1679045557975769\n",
      "Train Loss: 0.20404700934886932\n"
     ]
    },
    {
     "name": "stderr",
     "output_type": "stream",
     "text": [
      " 66%|██████▋   | 223/336 [00:21<00:10, 10.49it/s]"
     ]
    },
    {
     "name": "stdout",
     "output_type": "stream",
     "text": [
      "Train Loss: 0.14276722073554993\n",
      "Train Loss: 0.21031644940376282\n",
      "Train Loss: 0.2581869065761566\n"
     ]
    },
    {
     "name": "stderr",
     "output_type": "stream",
     "text": [
      " 67%|██████▋   | 225/336 [00:21<00:10, 10.22it/s]"
     ]
    },
    {
     "name": "stdout",
     "output_type": "stream",
     "text": [
      "Train Loss: 0.155948668718338\n",
      "Train Loss: 0.2502615749835968\n"
     ]
    },
    {
     "name": "stderr",
     "output_type": "stream",
     "text": [
      " 68%|██████▊   | 229/336 [00:22<00:10, 10.12it/s]"
     ]
    },
    {
     "name": "stdout",
     "output_type": "stream",
     "text": [
      "Train Loss: 0.24086812138557434\n",
      "Train Loss: 0.12768743932247162\n",
      "Train Loss: 0.21278460323810577\n"
     ]
    },
    {
     "name": "stderr",
     "output_type": "stream",
     "text": [
      " 69%|██████▉   | 231/336 [00:22<00:10,  9.62it/s]"
     ]
    },
    {
     "name": "stdout",
     "output_type": "stream",
     "text": [
      "Train Loss: 0.13583602011203766\n",
      "Train Loss: 0.1342909336090088\n"
     ]
    },
    {
     "name": "stderr",
     "output_type": "stream",
     "text": [
      " 69%|██████▉   | 233/336 [00:22<00:10,  9.92it/s]"
     ]
    },
    {
     "name": "stdout",
     "output_type": "stream",
     "text": [
      "Train Loss: 0.10145412385463715\n",
      "Train Loss: 0.13882988691329956\n",
      "Train Loss: 0.2365381270647049\n"
     ]
    },
    {
     "name": "stderr",
     "output_type": "stream",
     "text": [
      " 70%|██████▉   | 235/336 [00:22<00:09, 10.11it/s]"
     ]
    },
    {
     "name": "stdout",
     "output_type": "stream",
     "text": [
      "Train Loss: 0.2388533353805542\n",
      "Train Loss: 0.19690532982349396\n"
     ]
    },
    {
     "name": "stderr",
     "output_type": "stream",
     "text": [
      " 71%|███████   | 239/336 [00:23<00:09,  9.87it/s]"
     ]
    },
    {
     "name": "stdout",
     "output_type": "stream",
     "text": [
      "Train Loss: 0.23085346817970276\n",
      "Train Loss: 0.17066356539726257\n",
      "Train Loss: 0.1436406522989273\n"
     ]
    },
    {
     "name": "stderr",
     "output_type": "stream",
     "text": [
      " 72%|███████▏  | 241/336 [00:23<00:09,  9.51it/s]"
     ]
    },
    {
     "name": "stdout",
     "output_type": "stream",
     "text": [
      "Train Loss: 0.11872374266386032\n",
      "Train Loss: 0.14749819040298462\n"
     ]
    },
    {
     "name": "stderr",
     "output_type": "stream",
     "text": [
      " 72%|███████▏  | 243/336 [00:23<00:10,  8.99it/s]"
     ]
    },
    {
     "name": "stdout",
     "output_type": "stream",
     "text": [
      "Train Loss: 0.12264179438352585\n",
      "Train Loss: 0.0975273847579956\n"
     ]
    },
    {
     "name": "stderr",
     "output_type": "stream",
     "text": [
      " 73%|███████▎  | 245/336 [00:24<00:10,  8.96it/s]"
     ]
    },
    {
     "name": "stdout",
     "output_type": "stream",
     "text": [
      "Train Loss: 0.12106484174728394\n",
      "Train Loss: 0.3077373504638672\n"
     ]
    },
    {
     "name": "stderr",
     "output_type": "stream",
     "text": [
      " 74%|███████▎  | 247/336 [00:24<00:09,  9.23it/s]"
     ]
    },
    {
     "name": "stdout",
     "output_type": "stream",
     "text": [
      "Train Loss: 0.17236781120300293\n",
      "Train Loss: 0.13014286756515503\n",
      "Train Loss: 0.1766228824853897\n"
     ]
    },
    {
     "name": "stderr",
     "output_type": "stream",
     "text": [
      " 74%|███████▍  | 250/336 [00:24<00:09,  9.08it/s]"
     ]
    },
    {
     "name": "stdout",
     "output_type": "stream",
     "text": [
      "Train Loss: 0.1509702205657959\n",
      "Train Loss: 0.22515378892421722\n"
     ]
    },
    {
     "name": "stderr",
     "output_type": "stream",
     "text": [
      " 75%|███████▌  | 252/336 [00:24<00:09,  8.95it/s]"
     ]
    },
    {
     "name": "stdout",
     "output_type": "stream",
     "text": [
      "Train Loss: 0.23881669342517853\n",
      "Train Loss: 0.2281329333782196\n"
     ]
    },
    {
     "name": "stderr",
     "output_type": "stream",
     "text": [
      " 76%|███████▌  | 255/336 [00:25<00:08,  9.37it/s]"
     ]
    },
    {
     "name": "stdout",
     "output_type": "stream",
     "text": [
      "Train Loss: 0.1362398862838745\n",
      "Train Loss: 0.14714646339416504\n",
      "Train Loss: 0.3896060287952423\n"
     ]
    },
    {
     "name": "stderr",
     "output_type": "stream",
     "text": [
      " 76%|███████▋  | 257/336 [00:25<00:08,  9.09it/s]"
     ]
    },
    {
     "name": "stdout",
     "output_type": "stream",
     "text": [
      "Train Loss: 0.13551630079746246\n",
      "Train Loss: 0.14769990742206573\n"
     ]
    },
    {
     "name": "stderr",
     "output_type": "stream",
     "text": [
      " 77%|███████▋  | 259/336 [00:25<00:08,  9.00it/s]"
     ]
    },
    {
     "name": "stdout",
     "output_type": "stream",
     "text": [
      "Train Loss: 0.23466739058494568\n",
      "Train Loss: 0.2973394989967346\n"
     ]
    },
    {
     "name": "stderr",
     "output_type": "stream",
     "text": [
      " 78%|███████▊  | 261/336 [00:25<00:07,  9.72it/s]"
     ]
    },
    {
     "name": "stdout",
     "output_type": "stream",
     "text": [
      "Train Loss: 0.16903650760650635\n",
      "Train Loss: 0.1671910434961319\n"
     ]
    },
    {
     "name": "stderr",
     "output_type": "stream",
     "text": [
      " 78%|███████▊  | 263/336 [00:25<00:07,  9.50it/s]"
     ]
    },
    {
     "name": "stdout",
     "output_type": "stream",
     "text": [
      "Train Loss: 0.10011351108551025\n",
      "Train Loss: 0.2650822699069977\n"
     ]
    },
    {
     "name": "stderr",
     "output_type": "stream",
     "text": [
      " 79%|███████▉  | 265/336 [00:26<00:07,  9.65it/s]"
     ]
    },
    {
     "name": "stdout",
     "output_type": "stream",
     "text": [
      "Train Loss: 0.12417390942573547\n",
      "Train Loss: 0.19285529851913452\n"
     ]
    },
    {
     "name": "stderr",
     "output_type": "stream",
     "text": [
      " 79%|███████▉  | 267/336 [00:26<00:07,  9.43it/s]"
     ]
    },
    {
     "name": "stdout",
     "output_type": "stream",
     "text": [
      "Train Loss: 0.1894696056842804\n",
      "Train Loss: 0.14768265187740326\n"
     ]
    },
    {
     "name": "stderr",
     "output_type": "stream",
     "text": [
      " 80%|████████  | 270/336 [00:26<00:06,  9.80it/s]"
     ]
    },
    {
     "name": "stdout",
     "output_type": "stream",
     "text": [
      "Train Loss: 0.2101510465145111\n",
      "Train Loss: 0.17234012484550476\n",
      "Train Loss: 0.2281152606010437\n"
     ]
    },
    {
     "name": "stderr",
     "output_type": "stream",
     "text": [
      " 81%|████████  | 272/336 [00:26<00:06, 10.30it/s]"
     ]
    },
    {
     "name": "stdout",
     "output_type": "stream",
     "text": [
      "Train Loss: 0.23696790635585785\n",
      "Train Loss: 0.25662001967430115\n",
      "Train Loss: 0.14546707272529602\n"
     ]
    },
    {
     "name": "stderr",
     "output_type": "stream",
     "text": [
      " 82%|████████▏ | 276/336 [00:27<00:05, 10.35it/s]"
     ]
    },
    {
     "name": "stdout",
     "output_type": "stream",
     "text": [
      "Train Loss: 0.2448742687702179\n",
      "Train Loss: 0.14988715946674347\n",
      "Train Loss: 0.2648482918739319\n"
     ]
    },
    {
     "name": "stderr",
     "output_type": "stream",
     "text": [
      " 83%|████████▎ | 278/336 [00:27<00:05, 10.63it/s]"
     ]
    },
    {
     "name": "stdout",
     "output_type": "stream",
     "text": [
      "Train Loss: 0.1097756177186966\n",
      "Train Loss: 0.22787350416183472\n",
      "Train Loss: 0.22068938612937927\n"
     ]
    },
    {
     "name": "stderr",
     "output_type": "stream",
     "text": [
      " 84%|████████▍ | 282/336 [00:27<00:04, 11.03it/s]"
     ]
    },
    {
     "name": "stdout",
     "output_type": "stream",
     "text": [
      "Train Loss: 0.20844611525535583\n",
      "Train Loss: 0.1864921748638153\n",
      "Train Loss: 0.17929884791374207\n"
     ]
    },
    {
     "name": "stderr",
     "output_type": "stream",
     "text": [
      " 85%|████████▍ | 284/336 [00:27<00:04, 11.20it/s]"
     ]
    },
    {
     "name": "stdout",
     "output_type": "stream",
     "text": [
      "Train Loss: 0.26456114649772644\n",
      "Train Loss: 0.18742556869983673\n",
      "Train Loss: 0.1187976524233818\n"
     ]
    },
    {
     "name": "stderr",
     "output_type": "stream",
     "text": [
      " 86%|████████▌ | 288/336 [00:28<00:04, 11.06it/s]"
     ]
    },
    {
     "name": "stdout",
     "output_type": "stream",
     "text": [
      "Train Loss: 0.434085488319397\n",
      "Train Loss: 0.12040858715772629\n",
      "Train Loss: 0.17123821377754211\n"
     ]
    },
    {
     "name": "stderr",
     "output_type": "stream",
     "text": [
      " 86%|████████▋ | 290/336 [00:28<00:04, 10.83it/s]"
     ]
    },
    {
     "name": "stdout",
     "output_type": "stream",
     "text": [
      "Train Loss: 0.24876238405704498\n",
      "Train Loss: 0.18774452805519104\n",
      "Train Loss: 0.13155284523963928\n"
     ]
    },
    {
     "name": "stderr",
     "output_type": "stream",
     "text": [
      " 88%|████████▊ | 294/336 [00:28<00:03, 10.74it/s]"
     ]
    },
    {
     "name": "stdout",
     "output_type": "stream",
     "text": [
      "Train Loss: 0.149767205119133\n",
      "Train Loss: 0.12513995170593262\n",
      "Train Loss: 0.14333394169807434\n"
     ]
    },
    {
     "name": "stderr",
     "output_type": "stream",
     "text": [
      " 88%|████████▊ | 296/336 [00:29<00:03, 10.69it/s]"
     ]
    },
    {
     "name": "stdout",
     "output_type": "stream",
     "text": [
      "Train Loss: 0.25635018944740295\n",
      "Train Loss: 0.22891145944595337\n",
      "Train Loss: 0.16089484095573425\n"
     ]
    },
    {
     "name": "stderr",
     "output_type": "stream",
     "text": [
      " 89%|████████▉ | 300/336 [00:29<00:03, 10.99it/s]"
     ]
    },
    {
     "name": "stdout",
     "output_type": "stream",
     "text": [
      "Train Loss: 0.13464206457138062\n",
      "Train Loss: 0.11431150138378143\n",
      "Train Loss: 0.2079387754201889\n"
     ]
    },
    {
     "name": "stderr",
     "output_type": "stream",
     "text": [
      " 90%|████████▉ | 302/336 [00:29<00:03, 10.71it/s]"
     ]
    },
    {
     "name": "stdout",
     "output_type": "stream",
     "text": [
      "Train Loss: 0.12616850435733795\n",
      "Train Loss: 0.3529006838798523\n",
      "Train Loss: 0.1489691585302353\n"
     ]
    },
    {
     "name": "stderr",
     "output_type": "stream",
     "text": [
      " 90%|█████████ | 304/336 [00:29<00:03, 10.11it/s]"
     ]
    },
    {
     "name": "stdout",
     "output_type": "stream",
     "text": [
      "Train Loss: 0.12051495164632797\n",
      "Train Loss: 0.22202441096305847\n"
     ]
    },
    {
     "name": "stderr",
     "output_type": "stream",
     "text": [
      " 92%|█████████▏| 308/336 [00:30<00:02,  9.99it/s]"
     ]
    },
    {
     "name": "stdout",
     "output_type": "stream",
     "text": [
      "Train Loss: 0.23629431426525116\n",
      "Train Loss: 0.24664020538330078\n",
      "Train Loss: 0.17524445056915283\n"
     ]
    },
    {
     "name": "stderr",
     "output_type": "stream",
     "text": [
      " 92%|█████████▏| 310/336 [00:30<00:02, 10.25it/s]"
     ]
    },
    {
     "name": "stdout",
     "output_type": "stream",
     "text": [
      "Train Loss: 0.20442038774490356\n",
      "Train Loss: 0.13217604160308838\n",
      "Train Loss: 0.16236095130443573\n"
     ]
    },
    {
     "name": "stderr",
     "output_type": "stream",
     "text": [
      " 93%|█████████▎| 312/336 [00:30<00:02, 10.14it/s]"
     ]
    },
    {
     "name": "stdout",
     "output_type": "stream",
     "text": [
      "Train Loss: 0.15955102443695068\n",
      "Train Loss: 0.08425086736679077\n"
     ]
    },
    {
     "name": "stderr",
     "output_type": "stream",
     "text": [
      " 94%|█████████▍| 315/336 [00:30<00:02,  9.79it/s]"
     ]
    },
    {
     "name": "stdout",
     "output_type": "stream",
     "text": [
      "Train Loss: 0.1741517186164856\n",
      "Train Loss: 0.2595485746860504\n"
     ]
    },
    {
     "name": "stderr",
     "output_type": "stream",
     "text": [
      " 94%|█████████▍| 317/336 [00:31<00:01,  9.76it/s]"
     ]
    },
    {
     "name": "stdout",
     "output_type": "stream",
     "text": [
      "Train Loss: 0.1620706468820572\n",
      "Train Loss: 0.285264253616333\n",
      "Train Loss: 0.1751796156167984\n"
     ]
    },
    {
     "name": "stderr",
     "output_type": "stream",
     "text": [
      " 96%|█████████▌| 321/336 [00:31<00:01, 10.32it/s]"
     ]
    },
    {
     "name": "stdout",
     "output_type": "stream",
     "text": [
      "Train Loss: 0.20128221809864044\n",
      "Train Loss: 0.16747817397117615\n",
      "Train Loss: 0.14411233365535736\n"
     ]
    },
    {
     "name": "stderr",
     "output_type": "stream",
     "text": [
      " 96%|█████████▌| 323/336 [00:31<00:01, 10.58it/s]"
     ]
    },
    {
     "name": "stdout",
     "output_type": "stream",
     "text": [
      "Train Loss: 0.2630884647369385\n",
      "Train Loss: 0.18004705011844635\n",
      "Train Loss: 0.2200106978416443\n"
     ]
    },
    {
     "name": "stderr",
     "output_type": "stream",
     "text": [
      " 97%|█████████▋| 327/336 [00:32<00:00, 10.78it/s]"
     ]
    },
    {
     "name": "stdout",
     "output_type": "stream",
     "text": [
      "Train Loss: 0.22439582645893097\n",
      "Train Loss: 0.09689627587795258\n",
      "Train Loss: 0.22636725008487701\n"
     ]
    },
    {
     "name": "stderr",
     "output_type": "stream",
     "text": [
      " 98%|█████████▊| 329/336 [00:32<00:00, 11.02it/s]"
     ]
    },
    {
     "name": "stdout",
     "output_type": "stream",
     "text": [
      "Train Loss: 0.17508184909820557\n",
      "Train Loss: 0.2468709498643875\n",
      "Train Loss: 0.20723077654838562\n"
     ]
    },
    {
     "name": "stderr",
     "output_type": "stream",
     "text": [
      " 99%|█████████▉| 333/336 [00:32<00:00, 10.97it/s]"
     ]
    },
    {
     "name": "stdout",
     "output_type": "stream",
     "text": [
      "Train Loss: 0.1430431604385376\n",
      "Train Loss: 0.2296697050333023\n",
      "Train Loss: 0.2574882209300995\n"
     ]
    },
    {
     "name": "stderr",
     "output_type": "stream",
     "text": [
      "100%|██████████| 336/336 [00:32<00:00, 10.21it/s]"
     ]
    },
    {
     "name": "stdout",
     "output_type": "stream",
     "text": [
      "Train Loss: 0.10322980582714081\n",
      "Train Loss: 0.13559798896312714\n",
      "Train Loss: 0.1907421201467514\n",
      "Evaluating...\n"
     ]
    },
    {
     "name": "stderr",
     "output_type": "stream",
     "text": [
      "\n"
     ]
    },
    {
     "name": "stdout",
     "output_type": "stream",
     "text": [
      "*****Evaluation Results in Epoch 1*****\n",
      " acc: 0.7805 - recall: 0.7619 - f1: 0.7711 - loss: 8.5829 \n",
      "***** Entity results in Epoch 1 *****\n",
      "address\n",
      " acc: 0.6143 - recall: 0.6177 - f1: 0.6160 \n",
      "book\n",
      " acc: 0.8372 - recall: 0.7105 - f1: 0.7687 \n",
      "company\n",
      " acc: 0.7717 - recall: 0.7760 - f1: 0.7738 \n",
      "game\n",
      " acc: 0.8248 - recall: 0.7902 - f1: 0.8071 \n",
      "government\n",
      " acc: 0.8008 - recall: 0.8074 - f1: 0.8041 \n",
      "movie\n",
      " acc: 0.8025 - recall: 0.8400 - f1: 0.8208 \n",
      "name\n",
      " acc: 0.8747 - recall: 0.8806 - f1: 0.8777 \n",
      "organization\n",
      " acc: 0.7358 - recall: 0.7551 - f1: 0.7453 \n",
      "position\n",
      " acc: 0.8095 - recall: 0.7618 - f1: 0.7849 \n",
      "scene\n",
      " acc: 0.7669 - recall: 0.6281 - f1: 0.6906 \n"
     ]
    }
   ],
   "source": [
    "for i in range(opt.epochs):\n",
    "    print(f\"epoch: {i}\")\n",
    "    trainer.train(data_loader=train_dataloader, epoch=i)\n",
    "    results = trainer.eval(data_loader=dev_dataloader, epoch=i)"
   ]
  },
  {
   "cell_type": "code",
   "execution_count": 3,
   "metadata": {},
   "outputs": [
    {
     "name": "stdout",
     "output_type": "stream",
     "text": [
      "Predicting...\n"
     ]
    },
    {
     "name": "stderr",
     "output_type": "stream",
     "text": [
      "Predicting: 100%|██████████| 42/42 [00:02<00:00, 19.29it/s]\n"
     ]
    }
   ],
   "source": [
    "pred_results = trainer.predict(data_loader=dev_dataloader)"
   ]
  },
  {
   "cell_type": "code",
   "execution_count": 8,
   "metadata": {},
   "outputs": [
    {
     "data": {
      "text/plain": [
       "[['name', 0, 2], ['address', 15, 15]]"
      ]
     },
     "execution_count": 8,
     "metadata": {},
     "output_type": "execute_result"
    }
   ],
   "source": [
    "pred_results[0]"
   ]
  },
  {
   "cell_type": "code",
   "execution_count": null,
   "metadata": {},
   "outputs": [],
   "source": []
  }
 ],
 "metadata": {
  "kernelspec": {
   "display_name": "Python 3.8.13 ('deepner')",
   "language": "python",
   "name": "python3"
  },
  "language_info": {
   "codemirror_mode": {
    "name": "ipython",
    "version": 3
   },
   "file_extension": ".py",
   "mimetype": "text/x-python",
   "name": "python",
   "nbconvert_exporter": "python",
   "pygments_lexer": "ipython3",
   "version": "3.8.13"
  },
  "orig_nbformat": 4,
  "vscode": {
   "interpreter": {
    "hash": "9d3606aff3b8fd843f97c2a6e4db0e19b5f072918cfeac50ebc31dfdde5de028"
   }
  }
 },
 "nbformat": 4,
 "nbformat_minor": 2
}
